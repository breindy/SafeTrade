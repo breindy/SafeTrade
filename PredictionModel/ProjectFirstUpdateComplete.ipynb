{
 "cells": [
  {
   "cell_type": "markdown",
   "metadata": {},
   "source": [
    "# <center>First Update on Group Project\n",
    "# <center>[Safe Trade: Stock Prediction](https://github.com/breindy/SafeTrade)\n",
    "Shofiqur Rahman<br>\n",
    "Bashir Ahamed<br>\n",
    "Michelle Uy<br>\n",
    "Thierno Diallo<br><br>\n",
    "Grant Long<br>\n",
    "CSC.59970<br>\n",
    "November 05, 2018</p>"
   ]
  },
  {
   "cell_type": "markdown",
   "metadata": {},
   "source": [
    "With a lot of company stocks listed and a huge amount of trading done each working day we have an immense amoount of data at our hand. With that a problem comes is what we consider and what we discard as not necessary. Most importantly, what features do really impact stock prices. The first task is to come up with some features that effects stock prices. For that purpose, we will see correlation between stock price and each features we can find. The data will come from [IEX API](https://iextrading.com/developer/docs/)"
   ]
  },
  {
   "cell_type": "markdown",
   "metadata": {},
   "source": [
    "Also with all the varieties of stock data at hand we realize that dealing with all the different company stocks together might not give us a woriking model for all company; a model appropriate to predict on one company stocks might not perform equally well on another company. So, initially our foucs is on to build a model that can predict well at least for a company, namely Apple Inc. or AAPL."
   ]
  },
  {
   "cell_type": "markdown",
   "metadata": {
    "collapsed": true
   },
   "source": [
    "We also realize that pridicting an exact stock price depending on some regression model might be too bold. Instead, what we could do is to say, given the present state of the market, if the company stock price is going to rise or fall in near future (Probably, to be specific, in next three/four months). We might add to that by what percent the stock might rise. "
   ]
  },
  {
   "cell_type": "code",
   "execution_count": 1,
   "metadata": {},
   "outputs": [],
   "source": [
    "# Import necessary python modules to equip ourselves with better tools\n",
    "\n",
    "# Import library for data manipulation\n",
    "import pandas as pd\n",
    "# Import pyhton http library\n",
    "import requests\n",
    "# To work with JSON objects returned from http calls\n",
    "import json\n",
    "\n",
    "# To get training and test data\n",
    "from sklearn.model_selection import train_test_split\n",
    "# To get the visualization tolls\n",
    "import matplotlib.pyplot as plt\n"
   ]
  },
  {
   "cell_type": "code",
   "execution_count": 2,
   "metadata": {},
   "outputs": [
    {
     "name": "stdout",
     "output_type": "stream",
     "text": [
      "API Call Success! \n",
      " Google Price: 1031.91\n"
     ]
    }
   ],
   "source": [
    "# All API calls to IEX is prefixed with this\n",
    "iexUrl = 'https://api.iextrading.com/1.0'\n",
    "\n",
    "# Testing: Making API call to see current price\n",
    "response = requests.get(iexUrl + '/stock/GOOG/price')\n",
    "print('API Call Success! \\n Google Price: ' + response.text)"
   ]
  },
  {
   "cell_type": "code",
   "execution_count": 3,
   "metadata": {},
   "outputs": [],
   "source": [
    "# Declaring the main dataframe that we will be manipulating throughout the model building\n",
    "df = pd.DataFrame(columns=['date', 'company', 'symbol', 'dividend', 'eps', 'grossProfit', 'marketcap', 'pe', 'price', 'revenuePerShare'])\n"
   ]
  },
  {
   "cell_type": "code",
   "execution_count": 4,
   "metadata": {},
   "outputs": [],
   "source": [
    "### Populating df with data for Apple Inc.\n",
    "tempdf = pd.DataFrame(columns=['date', 'company', 'symbol', 'dividend', 'eps', 'grossProfit', 'marketcap', 'pe', 'price', 'revenuePerShare'])\n",
    "\n",
    "# Making API call to get last one year end of day close price(target value) and transaction date for AAPL\n",
    "response = requests.get(iexUrl + '/stock/aapl/chart/1y')\n",
    "JSONdata = response.json()\n",
    "date = list()\n",
    "price = list()\n",
    "for data in JSONdata:\n",
    "    date.append(data['date'])\n",
    "    price.append(data['close'])\n",
    "tempdf.date = date\n",
    "tempdf.price = price\n",
    "tempdf.company = 'Apple Inc.'\n",
    "tempdf.symbol = 'AAPL'"
   ]
  },
  {
   "cell_type": "code",
   "execution_count": 5,
   "metadata": {},
   "outputs": [
    {
     "name": "stdout",
     "output_type": "stream",
     "text": [
      "{'actualEPS': 2.91, 'consensusEPS': 2.79, 'estimatedEPS': 2.79, 'announceTime': 'AMC', 'numberOfEstimates': 12, 'EPSSurpriseDollar': 0.12, 'EPSReportDate': '2018-11-01', 'fiscalPeriod': 'Q4 2018', 'fiscalEndDate': '2018-09-30', 'yearAgo': 2.07, 'yearAgoChangePercent': 0.40579710144927555, 'estimatedChangePercent': 0.34782608695652184, 'symbolId': 11}\n",
      "{'actualEPS': 2.34, 'consensusEPS': 2.17, 'estimatedEPS': 2.17, 'announceTime': 'AMC', 'numberOfEstimates': 10, 'EPSSurpriseDollar': 0.17, 'EPSReportDate': '2018-07-31', 'fiscalPeriod': 'Q3 2018', 'fiscalEndDate': '2018-06-30', 'yearAgo': 1.67, 'yearAgoChangePercent': 0.40119760479041916, 'estimatedChangePercent': 0.29940119760479045, 'symbolId': 11}\n",
      "{'actualEPS': 2.73, 'consensusEPS': 2.69, 'estimatedEPS': 2.69, 'announceTime': 'AMC', 'numberOfEstimates': 10, 'EPSSurpriseDollar': 0.04, 'EPSReportDate': '2018-05-01', 'fiscalPeriod': 'Q2 2018', 'fiscalEndDate': '2018-03-31', 'yearAgo': 2.1, 'yearAgoChangePercent': 0.29999999999999993, 'estimatedChangePercent': 0.2809523809523809, 'symbolId': 11}\n",
      "{'actualEPS': 3.89, 'consensusEPS': 3.82, 'estimatedEPS': 3.82, 'announceTime': 'AMC', 'numberOfEstimates': 9, 'EPSSurpriseDollar': 0.07, 'EPSReportDate': '2018-02-01', 'fiscalPeriod': 'Q1 2018', 'fiscalEndDate': '2017-12-31', 'yearAgo': 3.36, 'yearAgoChangePercent': 0.15773809523809532, 'estimatedChangePercent': 0.1369047619047619, 'symbolId': 11}\n"
     ]
    }
   ],
   "source": [
    "# Making API call to get last one year querterly EPS\n",
    "response = requests.get(iexUrl + '/stock/aapl/earnings')\n",
    "JSONdata = response.json()\n",
    "totalEPS = 0 # to set the null EPS later\n",
    "\n",
    "# Setting EPS values for transaction days that happened after the EPS reporting date\n",
    "if 'earnings' in JSONdata:\n",
    "    for data in JSONdata['earnings']:\n",
    "        print(data)\n",
    "        tempdf.loc[tempdf['date'] > data['EPSReportDate'], ['eps']] = data['actualEPS']\n",
    "        totalEPS += data['actualEPS']\n",
    "    \n",
    "# Setting NaN values in EPS to avarage of last four EPS\n",
    "tempdf.loc[pd.isnull(tempdf['eps']), ['eps']] = totalEPS / len(JSONdata['earnings'])\n"
   ]
  },
  {
   "cell_type": "code",
   "execution_count": 6,
   "metadata": {},
   "outputs": [],
   "source": [
    "# Calculating pe\n",
    "tempdf['pe'] = tempdf['price'] / tempdf['eps']\n"
   ]
  },
  {
   "cell_type": "code",
   "execution_count": 7,
   "metadata": {},
   "outputs": [],
   "source": [
    "# Making API call to get last one year querterly dividends\n",
    "response = requests.get(iexUrl + '/stock/aapl/dividends/1y')\n",
    "JSONdata = response.json()\n",
    "totalDividend = 0 # to set the null dividend later\n",
    "\n",
    "# Setting dividend values for transaction days that happened after the dividend declaredDate\n",
    "for data in JSONdata:\n",
    "    tempdf.loc[tempdf['date'] > data['declaredDate'], ['dividend']] = data['amount']\n",
    "    totalDividend += data['amount']\n",
    "    \n",
    "# Setting NaN values in dividend to avarage of last four dividend amount\n",
    "tempdf.loc[pd.isnull(tempdf['dividend']), ['dividend']] = totalDividend / len(JSONdata)\n"
   ]
  },
  {
   "cell_type": "code",
   "execution_count": 8,
   "metadata": {},
   "outputs": [],
   "source": [
    "# Making API call to get last one year marketcap and revenuePerShare\n",
    "response = requests.get(iexUrl + '/stock/aapl/stats')\n",
    "JSONdata = response.json()\n",
    "\n",
    "tempdf['marketcap'] = JSONdata['marketcap']\n",
    "tempdf['revenuePerShare'] = JSONdata['revenuePerShare']\n"
   ]
  },
  {
   "cell_type": "code",
   "execution_count": 9,
   "metadata": {},
   "outputs": [],
   "source": [
    "# Making API call to get last one year grossProfit\n",
    "response = requests.get(iexUrl + '/stock/aapl/financials?period=annual')\n",
    "JSONdata = response.json()\n",
    "\n",
    "totalgrossProfit = 0 # to set the null grossProfit later\n",
    "\n",
    "# Setting grossProfit values for transaction days that happened after the grossProfit report date\n",
    "for data in JSONdata['financials']:\n",
    "    tempdf.loc[tempdf['date'] > data['reportDate'], ['grossProfit']] = data['grossProfit']\n",
    "    totalgrossProfit += data['grossProfit']\n",
    "    \n",
    "# Setting NaN values in grossProfit to avarage of last four grossProfit\n",
    "tempdf.loc[pd.isnull(tempdf['grossProfit']), ['grossProfit']] = totalgrossProfit / len(JSONdata['financials'])\n"
   ]
  },
  {
   "cell_type": "code",
   "execution_count": 10,
   "metadata": {},
   "outputs": [],
   "source": [
    "# Concatenating Apple dataframe to the main dataframe df\n",
    "df = pd.concat([df, tempdf], ignore_index=True)\n"
   ]
  },
  {
   "cell_type": "code",
   "execution_count": 11,
   "metadata": {},
   "outputs": [],
   "source": [
    "# Save all stock data in a CSV file called 'StockData.csv'\n",
    "df.to_csv('StockData.csv')\n"
   ]
  },
  {
   "cell_type": "code",
   "execution_count": 12,
   "metadata": {},
   "outputs": [
    {
     "data": {
      "image/png": "[encoded data removed]",
      "text/plain": [
       "<Figure size 432x288 with 1 Axes>"
      ]
     },
     "metadata": {},
     "output_type": "display_data"
    }
   ],
   "source": [
    "# Visualizig correlation between stock price and pe \n",
    "plt.scatter(df.pe, df.price, alpha=0.5, marker=r'$\\clubsuit$')\n",
    "plt.show()\n"
   ]
  },
  {
   "cell_type": "code",
   "execution_count": 13,
   "metadata": {},
   "outputs": [
    {
     "data": {
      "image/png": "[encoded data removed]",
      "text/plain": [
       "<Figure size 432x288 with 1 Axes>"
      ]
     },
     "metadata": {},
     "output_type": "display_data"
    }
   ],
   "source": [
    "# Visualizig correlation between stock price and pe \n",
    "plt.scatter(df.grossProfit, df.price, alpha=0.5, marker=r'$\\clubsuit$')\n",
    "plt.show()"
   ]
  },
  {
   "cell_type": "code",
   "execution_count": null,
   "metadata": {},
   "outputs": [],
   "source": []
  },
  {
   "cell_type": "code",
   "execution_count": 14,
   "metadata": {},
   "outputs": [],
   "source": [
    "### Divide the DataFrame in X(Features) and Y(Target)\n",
    "X = df[['dividend', 'eps', 'grossProfit', 'marketcap', 'pe', 'revenuePerShare']].copy()\n",
    "Y = df.price"
   ]
  },
  {
   "cell_type": "code",
   "execution_count": 15,
   "metadata": {},
   "outputs": [],
   "source": [
    "# Import train_test_split from sklearn.model_selection\n",
    "from sklearn.model_selection import train_test_split\n",
    "# Import DecisionTreeClassifier from sklearn.tree\n",
    "from sklearn.tree import DecisionTreeClassifier\n",
    "# Import DecisionTreeRegressor from sklearn.tree\n",
    "from sklearn.tree import DecisionTreeRegressor\n",
    "# Import accuracy_score\n",
    "from sklearn.metrics import accuracy_score\n",
    "# Import mean_squared_error from sklearn.metrics as MSE\n",
    "from sklearn.metrics import mean_squared_error as MSE\n",
    "\n",
    "# Splitting the dataset\n",
    "X_train, X_test, y_train, y_test = train_test_split(X, Y, test_size=0.3, random_state=1)\n",
    "\n",
    "# min_samples_leaf tell the model to keep at least 10% data for each leaf\n",
    "#SEED = 3\n",
    "#dt = DecisionTreeRegressor(max_depth=6, min_samples_leaf=0.1, random_state=SEED)\n",
    "\n",
    "# Fit dt to the training set\n",
    "#dt.fit(X_train, y_train)\n",
    "\n",
    "# Predict test set labels\n",
    "#y_pred = dt.predict(X_test)\n",
    "#print(y_pred[0:5])\n",
    "\n",
    "# Compute test set accuracy: applicable only for classification model?\n",
    "#acc = accuracy_score(y_test, y_pred)\n",
    "#print(\"Test set accuracy: {:.2f}\".format(acc))\n"
   ]
  },
  {
   "cell_type": "code",
   "execution_count": null,
   "metadata": {},
   "outputs": [],
   "source": []
  },
  {
   "cell_type": "code",
   "execution_count": 16,
   "metadata": {},
   "outputs": [
    {
     "name": "stdout",
     "output_type": "stream",
     "text": [
      "Test set RMSE of dt: 3.64\n",
      "Linear Regression test set RMSE: 3.64\n",
      "Regression Tree test set RMSE: 3.64\n"
     ]
    }
   ],
   "source": [
    "# Instantiate dt\n",
    "# min_samples_leaf tell the model to keep at least 10% data for each leaf\n",
    "lr = DecisionTreeRegressor(max_depth=8,\n",
    "             min_samples_leaf=0.1,\n",
    "            random_state=3)\n",
    "\n",
    "# Fit dt to the training set\n",
    "lr.fit(X_train, y_train)\n",
    "\n",
    "# Import mean_squared_error from sklearn.metrics as MSE\n",
    "from sklearn.metrics import mean_squared_error as MSE\n",
    "\n",
    "# Compute y_pred\n",
    "y_pred = lr.predict(X_test)\n",
    "\n",
    "# Compute mse_dt\n",
    "mse_dt = MSE(y_test, y_pred)\n",
    "\n",
    "# Compute rmse_dt\n",
    "rmse_dt = mse_dt**(1/2)\n",
    "\n",
    "# Print rmse_dt\n",
    "print(\"Test set RMSE of dt: {:.2f}\".format(rmse_dt))\n",
    "\n",
    "# Compare Linear Regression with Logistic Regression\n",
    "# Predict test set labels \n",
    "y_pred_lr = lr.predict(X_test)\n",
    "\n",
    "# Compute mse_lr\n",
    "mse_lr = MSE(y_test, y_pred_lr)\n",
    "\n",
    "# Compute rmse_lr\n",
    "rmse_lr = mse_lr**(1/2)\n",
    "\n",
    "# Print rmse_lr\n",
    "print('Linear Regression test set RMSE: {:.2f}'.format(rmse_lr))\n",
    "\n",
    "# Print rmse_dt\n",
    "print('Regression Tree test set RMSE: {:.2f}'.format(rmse_dt))\n"
   ]
  },
  {
   "cell_type": "code",
   "execution_count": 17,
   "metadata": {},
   "outputs": [],
   "source": [
    "# The Generalization error tells us how much it generalizes on unseen data\n",
    "# bias=underfitting and variance=overfitting"
   ]
  },
  {
   "cell_type": "code",
   "execution_count": null,
   "metadata": {},
   "outputs": [],
   "source": []
  },
  {
   "cell_type": "code",
   "execution_count": 18,
   "metadata": {},
   "outputs": [
    {
     "name": "stdout",
     "output_type": "stream",
     "text": [
      "CV RMSE: 3.53\n",
      "Train RMSE: 3.20\n"
     ]
    }
   ],
   "source": [
    "from sklearn.model_selection import cross_val_score\n",
    "\n",
    "# Compute the array containing the 10-folds CV MSEs\n",
    "MSE_CV_scores = - cross_val_score(lr, X_train, y_train, cv=10, \n",
    "                       scoring='neg_mean_squared_error',\n",
    "                       n_jobs=-1)\n",
    "\n",
    "# Compute the 10-folds CV RMSE\n",
    "RMSE_CV = (MSE_CV_scores.mean())**(1/2)\n",
    "\n",
    "# Print RMSE_CV\n",
    "print('CV RMSE: {:.2f}'.format(RMSE_CV))\n",
    "\n",
    "# Import mean_squared_error from sklearn.metrics as MSE\n",
    "from sklearn.metrics import mean_squared_error\n",
    "\n",
    "# Fit dt to the training set\n",
    "#dt.fit(X_train, y_train)\n",
    "\n",
    "# Predict the labels of the training set\n",
    "y_pred_train = lr.predict(X_train)\n",
    "\n",
    "# Evaluate the training set RMSE of dt\n",
    "RMSE_train = (mean_squared_error(y_train, y_pred_train))**(1/2)\n",
    "\n",
    "# Print RMSE_train\n",
    "print('Train RMSE: {:.2f}'.format(RMSE_train))\n"
   ]
  },
  {
   "cell_type": "code",
   "execution_count": 19,
   "metadata": {},
   "outputs": [],
   "source": [
    "### To get the average performance of few models\n",
    "from sklearn.ensemble import VotingClassifier\n",
    "from sklearn.neighbors import KNeighborsClassifier\n",
    "\n",
    "# instantiate learning model (k = 3)\n",
    "knn = KNeighborsClassifier(n_neighbors=3)\n",
    "\n",
    "# Define the list classifiers\n",
    "classifiers = [('Logistic Regression', lr), ('K Nearest Neighbours', knn)]\n",
    "# Iterate over the pre-defined list of classifiers\n",
    "#for clf_name, clf in classifiers:    \n",
    " \n",
    "    # Fit clf to the training set\n",
    "#    clf.fit(X_train, y_train)    \n",
    "   \n",
    "    # Predict y_pred\n",
    "#    y_pred = clf.predict(X_test)\n",
    "    \n",
    "    # Calculate accuracy\n",
    "#    accuracy = accuracy_score(y_test, y_pred)\n",
    "\n",
    "    # Evaluate clf's accuracy on the test set\n",
    "    #print('{:s} : {:.3f}'.format(clf_name, accuracy))\n",
    "\n",
    "# Instantiate a VotingClassifier vc\n",
    "#vc = VotingClassifier(estimators=classifiers)     \n",
    "\n",
    "# Fit vc to the training set\n",
    "#vc.fit(X_train, y_train)   \n",
    "\n",
    "# Evaluate the test set predictions\n",
    "#y_pred = vc.predict(X_test)\n",
    "\n",
    "# Calculate accuracy score\n",
    "#accuracy = accuracy_score(y_test, y_pred)\n",
    "#print('Classifier: {:.3f}'.format(accuracy))\n"
   ]
  },
  {
   "cell_type": "code",
   "execution_count": 20,
   "metadata": {},
   "outputs": [],
   "source": [
    "# # To predict using n models of same kind\n",
    "# # Import BaggingClassifier\n",
    "# from sklearn.ensemble import BaggingClassifier\n",
    "\n",
    "# # Instantiate dt\n",
    "# dt = DecisionTreeClassifier(random_state=1)\n",
    "\n",
    "# # Instantiate bc\n",
    "# bc = BaggingClassifier(base_estimator=dt, n_estimators=50, random_state=1)\n",
    "\n",
    "# # Fit bc to the training set\n",
    "# bc.fit(X_train, y_train)\n",
    "\n",
    "# # Predict test set labels\n",
    "# y_pred = bc.predict(X_test)\n",
    "\n",
    "# # Evaluate acc_test\n",
    "# acc_test = accuracy_score(y_test, y_pred)\n",
    "# print('Test set accuracy of bc: {:.2f}'.format(acc_test)) \n"
   ]
  },
  {
   "cell_type": "code",
   "execution_count": 21,
   "metadata": {},
   "outputs": [],
   "source": [
    "# ### To test the model on the left out sample for each model of same type\n",
    "# # Import BaggingClassifier\n",
    "# from sklearn.ensemble import BaggingClassifier\n",
    "\n",
    "# # Instantiate dt\n",
    "# dt = DecisionTreeClassifier(min_samples_leaf=8, random_state=1)\n",
    "\n",
    "# # Instantiate bc\n",
    "# bc = BaggingClassifier(base_estimator=dt, \n",
    "#             n_estimators=50,\n",
    "#             oob_score=True,\n",
    "#             random_state=1)\n",
    "\n",
    "# # Fit bc to the training set \n",
    "# bc.fit(X_train, y_train)\n",
    "\n",
    "# # Predict test set labels\n",
    "# y_pred = bc.predict(X_test)\n",
    "\n",
    "# # Evaluate test set accuracy\n",
    "# acc_test = accuracy_score(y_test, y_pred)\n",
    "\n",
    "# # Evaluate OOB accuracy\n",
    "# acc_oob = bc.oob_score_\n",
    "\n",
    "# # Print acc_test and acc_oob\n",
    "# print('Test set accuracy: {:.3f}, OOB accuracy: {:.3f}'.format(acc_test, acc_oob))"
   ]
  },
  {
   "cell_type": "code",
   "execution_count": 22,
   "metadata": {},
   "outputs": [
    {
     "name": "stdout",
     "output_type": "stream",
     "text": [
      "Test set RMSE of rf: 0.58\n"
     ]
    },
    {
     "data": {
      "image/png": "[encoded data removed]",
      "text/plain": [
       "<Figure size 432x288 with 1 Axes>"
      ]
     },
     "metadata": {},
     "output_type": "display_data"
    }
   ],
   "source": [
    "# Import RandomForestRegressor\n",
    "from sklearn.ensemble import RandomForestRegressor\n",
    "\n",
    "# Instantiate rf\n",
    "rf = RandomForestRegressor(n_estimators=25,\n",
    "            random_state=2)\n",
    "            \n",
    "# Fit rf to the training set    \n",
    "rf.fit(X_train, y_train)\n",
    "\n",
    "# Import mean_squared_error as MSE\n",
    "from sklearn.metrics import mean_squared_error as MSE\n",
    "\n",
    "# Predict the test set labels\n",
    "y_pred = rf.predict(X_test)\n",
    "\n",
    "# Evaluate the test set RMSE\n",
    "rmse_test = MSE(y_test, y_pred)**(1/2)\n",
    "\n",
    "# Print rmse_test\n",
    "print('Test set RMSE of rf: {:.2f}'.format(rmse_test))\n",
    "\n",
    "# Create a pd.Series of features importances\n",
    "importances = pd.Series(data=rf.feature_importances_,\n",
    "                        index= X_train.columns)\n",
    "\n",
    "# Sort importances\n",
    "importances_sorted = importances.sort_values()\n",
    "\n",
    "# Draw a horizontal barplot of importances_sorted\n",
    "importances_sorted.plot(kind='barh', color='lightgreen')\n",
    "plt.title('Features Importances')\n",
    "plt.show()\n"
   ]
  },
  {
   "cell_type": "code",
   "execution_count": null,
   "metadata": {},
   "outputs": [],
   "source": []
  },
  {
   "cell_type": "code",
   "execution_count": null,
   "metadata": {},
   "outputs": [],
   "source": []
  },
  {
   "cell_type": "markdown",
   "metadata": {},
   "source": [
    "Things to consider: \n",
    "    stocks will tend to be correlated with each other"
   ]
  },
  {
   "cell_type": "code",
   "execution_count": null,
   "metadata": {},
   "outputs": [],
   "source": []
  },
  {
   "cell_type": "code",
   "execution_count": null,
   "metadata": {},
   "outputs": [],
   "source": []
  }
 ],
 "metadata": {
  "kernelspec": {
   "display_name": "Python 3",
   "language": "python",
   "name": "python3"
  },
  "language_info": {
   "codemirror_mode": {
    "name": "ipython",
    "version": 3
   },
   "file_extension": ".py",
   "mimetype": "text/x-python",
   "name": "python",
   "nbconvert_exporter": "python",
   "pygments_lexer": "ipython3",
   "version": "3.6.5"
  }
 },
 "nbformat": 4,
 "nbformat_minor": 2
}
