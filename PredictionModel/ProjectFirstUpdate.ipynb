{
 "cells": [
  {
   "cell_type": "markdown",
   "metadata": {},
   "source": [
    "# <center>First Update on Group Project\n",
    "# <center>Safe Trade: Stock Prediction\n",
    "Shofiqur Rahman<br>\n",
    "Bashir Ahamed<br>\n",
    "Michelle Uy<br>\n",
    "Thierno Diallo<br><br>\n",
    "Grant Long<br>\n",
    "CSC.59970<br>\n",
    "November 05, 2018</p>"
   ]
  },
  {
   "cell_type": "markdown",
   "metadata": {},
   "source": [
    "With a lot of company stocks listed and a huge amount of trading done each working day we have an immense amoount of data at our hand. With that a problem comes is what we consider and and what we discard. Or what features do really impact stock prices. The first task is to come up with some features that effects stock prices. For that purpose, we will see correlation between stock price and each features we can find. The data will come from [IEX API](https://iextrading.com/developer/docs/)"
   ]
  },
  {
   "cell_type": "markdown",
   "metadata": {},
   "source": [
    "Also with all the varieties of stock data at hand we realize that dealing with all the different company stocks together might not give us a woriking model for all company; a model appropriate to predict on one company stocks might not perform equally well on another company. So, initially our foucs is on to build a model that can predict well at least for a company, namely Apple Inc. or AAPL."
   ]
  },
  {
   "cell_type": "markdown",
   "metadata": {
    "collapsed": true
   },
   "source": [
    "We also realize that pridicting an exact stock price depending on some regression model might be too bold. Instead what we could do is to say, given the present state of the market, if the company stock price is going to rise or fall in near future; to be specific, in next three/four months. We might add to that by what percent the stock might rise. "
   ]
  },
  {
   "cell_type": "code",
   "execution_count": null,
   "metadata": {},
   "outputs": [],
   "source": []
  },
  {
   "cell_type": "code",
   "execution_count": 24,
   "metadata": {},
   "outputs": [],
   "source": [
    "# Import necessary python modules to equip with better tools\n",
    "\n",
    "# Import library for data manipulation\n",
    "import pandas as pd\n",
    "# Import pyhton http library\n",
    "import requests\n",
    "# To work with JSON objects\n",
    "import json\n",
    "# To handle nested objects in JSON\n",
    "from pandas.io.json import json_normalize"
   ]
  },
  {
   "cell_type": "code",
   "execution_count": 25,
   "metadata": {},
   "outputs": [
    {
     "name": "stdout",
     "output_type": "stream",
     "text": [
      "201.59\n"
     ]
    }
   ],
   "source": [
    "# All API calls to IEX is prefixed with this\n",
    "iexUrl = 'https://api.iextrading.com/1.0'\n",
    "\n",
    "# Making API call to see current price to test\n",
    "response = requests.get(iexUrl + '/stock/aapl/price')\n",
    "print(response.text)"
   ]
  },
  {
   "cell_type": "code",
   "execution_count": 37,
   "metadata": {},
   "outputs": [
    {
     "name": "stdout",
     "output_type": "stream",
     "text": [
      "2.91\n",
      "2.34\n",
      "2.73\n",
      "3.89\n",
      "         date     company symbol     price  dividend  eps\n",
      "0  2017-10-24  Apple Inc.   AAPL  154.7600      0.63  NaN\n",
      "1  2017-10-25  Apple Inc.   AAPL  154.0802      0.63  NaN\n",
      "2  2017-10-26  Apple Inc.   AAPL  155.0654      0.63  NaN\n",
      "3  2017-10-27  Apple Inc.   AAPL  160.6213      0.63  NaN\n",
      "4  2017-10-30  Apple Inc.   AAPL  164.2367      0.63  NaN\n"
     ]
    },
    {
     "data": {
      "text/html": [
       "<div>\n",
       "<style scoped>\n",
       "    .dataframe tbody tr th:only-of-type {\n",
       "        vertical-align: middle;\n",
       "    }\n",
       "\n",
       "    .dataframe tbody tr th {\n",
       "        vertical-align: top;\n",
       "    }\n",
       "\n",
       "    .dataframe thead th {\n",
       "        text-align: right;\n",
       "    }\n",
       "</style>\n",
       "<table border=\"1\" class=\"dataframe\">\n",
       "  <thead>\n",
       "    <tr style=\"text-align: right;\">\n",
       "      <th></th>\n",
       "      <th>amount</th>\n",
       "      <th>declaredDate</th>\n",
       "      <th>exDate</th>\n",
       "      <th>flag</th>\n",
       "      <th>indicated</th>\n",
       "      <th>paymentDate</th>\n",
       "      <th>qualified</th>\n",
       "      <th>recordDate</th>\n",
       "      <th>type</th>\n",
       "    </tr>\n",
       "  </thead>\n",
       "  <tbody>\n",
       "    <tr>\n",
       "      <th>0</th>\n",
       "      <td>0.63</td>\n",
       "      <td>2018-02-01</td>\n",
       "      <td>2018-02-09</td>\n",
       "      <td></td>\n",
       "      <td></td>\n",
       "      <td>2018-02-15</td>\n",
       "      <td>Q</td>\n",
       "      <td>2018-02-12</td>\n",
       "      <td>Dividend income</td>\n",
       "    </tr>\n",
       "    <tr>\n",
       "      <th>1</th>\n",
       "      <td>0.63</td>\n",
       "      <td>2017-11-02</td>\n",
       "      <td>2017-11-10</td>\n",
       "      <td></td>\n",
       "      <td></td>\n",
       "      <td>2017-11-16</td>\n",
       "      <td>Q</td>\n",
       "      <td>2017-11-13</td>\n",
       "      <td>Dividend income</td>\n",
       "    </tr>\n",
       "    <tr>\n",
       "      <th>2</th>\n",
       "      <td>0.63</td>\n",
       "      <td>2017-08-01</td>\n",
       "      <td>2017-08-10</td>\n",
       "      <td></td>\n",
       "      <td></td>\n",
       "      <td>2017-08-17</td>\n",
       "      <td>Q</td>\n",
       "      <td>2017-08-14</td>\n",
       "      <td>Dividend income</td>\n",
       "    </tr>\n",
       "    <tr>\n",
       "      <th>3</th>\n",
       "      <td>0.63</td>\n",
       "      <td>2017-05-02</td>\n",
       "      <td>2017-05-11</td>\n",
       "      <td></td>\n",
       "      <td></td>\n",
       "      <td>2017-05-18</td>\n",
       "      <td>Q</td>\n",
       "      <td>2017-05-15</td>\n",
       "      <td>Dividend income</td>\n",
       "    </tr>\n",
       "  </tbody>\n",
       "</table>\n",
       "</div>"
      ],
      "text/plain": [
       "   amount declaredDate      exDate flag indicated paymentDate qualified  \\\n",
       "0    0.63   2018-02-01  2018-02-09                 2018-02-15         Q   \n",
       "1    0.63   2017-11-02  2017-11-10                 2017-11-16         Q   \n",
       "2    0.63   2017-08-01  2017-08-10                 2017-08-17         Q   \n",
       "3    0.63   2017-05-02  2017-05-11                 2017-05-18         Q   \n",
       "\n",
       "   recordDate             type  \n",
       "0  2018-02-12  Dividend income  \n",
       "1  2017-11-13  Dividend income  \n",
       "2  2017-08-14  Dividend income  \n",
       "3  2017-05-15  Dividend income  "
      ]
     },
     "execution_count": 37,
     "metadata": {},
     "output_type": "execute_result"
    }
   ],
   "source": [
    "df = pd.DataFrame(columns=['date', 'company', 'symbol', 'price', 'dividend', 'eps'])\n",
    "\n",
    "###\n",
    "# Making API call to get last one year price(target value)\n",
    "response = requests.get('https://api.iextrading.com/1.0/stock/aapl/chart/1y')\n",
    "JSONdata = json.loads(response.text)\n",
    "tempDF = pd.DataFrame.from_dict(JSONdata, orient='columns')\n",
    "# If it contains nested JSON objects\n",
    "#df = pd.DataFrame.from_dict(json_normalize(data), orient='columns')\n",
    "\n",
    "df['date'] = tempDF['date']\n",
    "df['price'] = tempDF['close']\n",
    "df['company'] = 'Apple Inc.'\n",
    "df['symbol'] = 'AAPL'\n",
    "\n",
    "###\n",
    "# Making API call to get last one year dividend(feature)\n",
    "response = requests.get('https://api.iextrading.com/1.0/stock/aapl/dividends/1y')\n",
    "JSONdata = json.loads(response.text)\n",
    "tempDF = pd.DataFrame.from_dict(JSONdata, orient='columns')\n",
    "# calculating the average of all four dividend yields in one year\n",
    "df.dividend = tempDF.amount.sum() / len(tempDF)\n",
    "\n",
    "###\n",
    "# Making API call to get last one year EPS(feature)\n",
    "response = requests.get('https://api.iextrading.com/1.0/stock/aapl/earnings/5y')\n",
    "JSONData = response.json()\n",
    "for data in JSONData['earnings']:\n",
    "    print(data['actualEPS'])\n",
    "\n",
    "\n",
    "# To concate another company with dataframe df2\n",
    "# df = pd.concat([df, df2], ignore_index=true)\n",
    "\n",
    "print(df.head())\n",
    "tempDF.head()\n"
   ]
  },
  {
   "cell_type": "code",
   "execution_count": 8,
   "metadata": {},
   "outputs": [],
   "source": []
  },
  {
   "cell_type": "markdown",
   "metadata": {},
   "source": [
    "Things to consider: \n",
    "    stocks will tend to be correlated with each other"
   ]
  },
  {
   "cell_type": "code",
   "execution_count": null,
   "metadata": {},
   "outputs": [],
   "source": []
  },
  {
   "cell_type": "code",
   "execution_count": null,
   "metadata": {},
   "outputs": [],
   "source": []
  },
  {
   "cell_type": "code",
   "execution_count": null,
   "metadata": {},
   "outputs": [],
   "source": []
  }
 ],
 "metadata": {
  "kernelspec": {
   "display_name": "Python 3",
   "language": "python",
   "name": "python3"
  },
  "language_info": {
   "codemirror_mode": {
    "name": "ipython",
    "version": 3
   },
   "file_extension": ".py",
   "mimetype": "text/x-python",
   "name": "python",
   "nbconvert_exporter": "python",
   "pygments_lexer": "ipython3",
   "version": "3.6.5"
  }
 },
 "nbformat": 4,
 "nbformat_minor": 2
}
