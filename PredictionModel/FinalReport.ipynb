{
 "cells": [
  {
   "cell_type": "markdown",
   "metadata": {},
   "source": [
    "# <center>Final Report on the Project  \n",
    "# <center>[Safe Trade: Stock Prediction](https://github.com/breindy/SafeTrade)\n",
    "Shofiqur Rahman<br>\n",
    "Bashir Ahamed<br>\n",
    "Michelle Uy<br>\n",
    "Thierno Diallo<br><br>\n",
    "Grant Long<br>\n",
    "CSC.59970<br>\n",
    "December 10, 2018"
   ]
  },
  {
   "cell_type": "markdown",
   "metadata": {},
   "source": [
    "For the purpose of creating the model, we had to spend a lot of time on just data gathering and cleaning. Since these finance data could not be found anywhere ready as to be used in modelling, we had to query into different API's to get the data and have them ready for analysis. Most of the data came from [IEX API](https://iextrading.com/developer/docs/), but the stock exchange index data came from [Yahoo Finance](https://finance.yahoo.com/quote/%5EIXIC/history?ltr=1). \n",
    "We wrote a separate [python script](AggregateData.py) to fetch the necessary data. We had the data cleaned and ready to be used in model building process by the same script. The script basically makes request to the IEX API to fetch all the company symbols. For each symbol that are presently in transaction in the IEX Exchange, the script makes subsequent calls to fetch the whole year eps, dividend, and all other features value and add them to the main dataframe in iterations one by one. "
   ]
  },
  {
   "cell_type": "code",
   "execution_count": 1,
   "metadata": {},
   "outputs": [
    {
     "data": {
      "text/html": [
       "<div>\n",
       "<style scoped>\n",
       "    .dataframe tbody tr th:only-of-type {\n",
       "        vertical-align: middle;\n",
       "    }\n",
       "\n",
       "    .dataframe tbody tr th {\n",
       "        vertical-align: top;\n",
       "    }\n",
       "\n",
       "    .dataframe thead th {\n",
       "        text-align: right;\n",
       "    }\n",
       "</style>\n",
       "<table border=\"1\" class=\"dataframe\">\n",
       "  <thead>\n",
       "    <tr style=\"text-align: right;\">\n",
       "      <th></th>\n",
       "      <th>Unnamed: 0</th>\n",
       "      <th>date</th>\n",
       "      <th>company</th>\n",
       "      <th>symbol</th>\n",
       "      <th>dividend</th>\n",
       "      <th>eps</th>\n",
       "      <th>nasdaqIndex</th>\n",
       "      <th>numberOfShare</th>\n",
       "      <th>pe</th>\n",
       "      <th>price</th>\n",
       "      <th>profitPerShare</th>\n",
       "      <th>revenuePerShare</th>\n",
       "    </tr>\n",
       "  </thead>\n",
       "  <tbody>\n",
       "    <tr>\n",
       "      <th>0</th>\n",
       "      <td>0</td>\n",
       "      <td>2017-11-28</td>\n",
       "      <td>Zoetis Inc. Class A</td>\n",
       "      <td>ZTS</td>\n",
       "      <td>0.105</td>\n",
       "      <td>0.76</td>\n",
       "      <td>NaN</td>\n",
       "      <td>5.963746e+08</td>\n",
       "      <td>70.9670</td>\n",
       "      <td>70.9670</td>\n",
       "      <td>5.144417</td>\n",
       "      <td>3</td>\n",
       "    </tr>\n",
       "    <tr>\n",
       "      <th>1</th>\n",
       "      <td>1</td>\n",
       "      <td>2017-11-29</td>\n",
       "      <td>Zoetis Inc. Class A</td>\n",
       "      <td>ZTS</td>\n",
       "      <td>0.105</td>\n",
       "      <td>0.76</td>\n",
       "      <td>NaN</td>\n",
       "      <td>5.945424e+08</td>\n",
       "      <td>71.1857</td>\n",
       "      <td>71.1857</td>\n",
       "      <td>5.160271</td>\n",
       "      <td>3</td>\n",
       "    </tr>\n",
       "    <tr>\n",
       "      <th>2</th>\n",
       "      <td>2</td>\n",
       "      <td>2017-11-30</td>\n",
       "      <td>Zoetis Inc. Class A</td>\n",
       "      <td>ZTS</td>\n",
       "      <td>0.105</td>\n",
       "      <td>0.76</td>\n",
       "      <td>NaN</td>\n",
       "      <td>5.889504e+08</td>\n",
       "      <td>71.8616</td>\n",
       "      <td>71.8616</td>\n",
       "      <td>5.209267</td>\n",
       "      <td>3</td>\n",
       "    </tr>\n",
       "    <tr>\n",
       "      <th>3</th>\n",
       "      <td>3</td>\n",
       "      <td>2017-12-01</td>\n",
       "      <td>Zoetis Inc. Class A</td>\n",
       "      <td>ZTS</td>\n",
       "      <td>0.105</td>\n",
       "      <td>0.76</td>\n",
       "      <td>NaN</td>\n",
       "      <td>5.888685e+08</td>\n",
       "      <td>71.8716</td>\n",
       "      <td>71.8716</td>\n",
       "      <td>5.209992</td>\n",
       "      <td>3</td>\n",
       "    </tr>\n",
       "    <tr>\n",
       "      <th>4</th>\n",
       "      <td>4</td>\n",
       "      <td>2017-12-04</td>\n",
       "      <td>Zoetis Inc. Class A</td>\n",
       "      <td>ZTS</td>\n",
       "      <td>0.105</td>\n",
       "      <td>0.76</td>\n",
       "      <td>NaN</td>\n",
       "      <td>5.994824e+08</td>\n",
       "      <td>70.5991</td>\n",
       "      <td>70.5991</td>\n",
       "      <td>5.117748</td>\n",
       "      <td>3</td>\n",
       "    </tr>\n",
       "  </tbody>\n",
       "</table>\n",
       "</div>"
      ],
      "text/plain": [
       "   Unnamed: 0        date              company symbol  dividend   eps  \\\n",
       "0           0  2017-11-28  Zoetis Inc. Class A    ZTS     0.105  0.76   \n",
       "1           1  2017-11-29  Zoetis Inc. Class A    ZTS     0.105  0.76   \n",
       "2           2  2017-11-30  Zoetis Inc. Class A    ZTS     0.105  0.76   \n",
       "3           3  2017-12-01  Zoetis Inc. Class A    ZTS     0.105  0.76   \n",
       "4           4  2017-12-04  Zoetis Inc. Class A    ZTS     0.105  0.76   \n",
       "\n",
       "   nasdaqIndex  numberOfShare       pe    price  profitPerShare  \\\n",
       "0          NaN   5.963746e+08  70.9670  70.9670        5.144417   \n",
       "1          NaN   5.945424e+08  71.1857  71.1857        5.160271   \n",
       "2          NaN   5.889504e+08  71.8616  71.8616        5.209267   \n",
       "3          NaN   5.888685e+08  71.8716  71.8716        5.209992   \n",
       "4          NaN   5.994824e+08  70.5991  70.5991        5.117748   \n",
       "\n",
       "   revenuePerShare  \n",
       "0                3  \n",
       "1                3  \n",
       "2                3  \n",
       "3                3  \n",
       "4                3  "
      ]
     },
     "execution_count": 1,
     "metadata": {},
     "output_type": "execute_result"
    }
   ],
   "source": [
    "import pandas as pd\n",
    "import numpy as np\n",
    "import matplotlib.pyplot as plt\n",
    "from sklearn.metrics import mean_squared_error as MSE\n",
    "from sklearn.model_selection import train_test_split\n",
    "from sklearn.tree import DecisionTreeRegressor\n",
    "from sklearn.ensemble import RandomForestRegressor\n",
    "from sklearn.metrics import accuracy_score\n",
    "\n",
    "AllDF = pd.read_csv('AllStockData.csv')\n",
    "AllDF.head()"
   ]
  },
  {
   "cell_type": "code",
   "execution_count": 2,
   "metadata": {},
   "outputs": [
    {
     "name": "stdout",
     "output_type": "stream",
     "text": [
      "(554185, 12)\n",
      "Unnamed: 0             0\n",
      "date                   0\n",
      "company                0\n",
      "symbol                 0\n",
      "dividend               0\n",
      "eps                    0\n",
      "nasdaqIndex        19225\n",
      "numberOfShare          0\n",
      "pe                     0\n",
      "price                  0\n",
      "profitPerShare         0\n",
      "revenuePerShare        0\n",
      "dtype: int64\n"
     ]
    },
    {
     "data": {
      "text/plain": [
       "True"
      ]
     },
     "execution_count": 2,
     "metadata": {},
     "output_type": "execute_result"
    }
   ],
   "source": [
    "print(AllDF.shape)\n",
    "print(AllDF.isna().sum())\n",
    "AllDF.isnull().values.any()"
   ]
  },
  {
   "cell_type": "code",
   "execution_count": 3,
   "metadata": {},
   "outputs": [
    {
     "name": "stdout",
     "output_type": "stream",
     "text": [
      "(534960, 12)\n",
      "Unnamed: 0         0\n",
      "date               0\n",
      "company            0\n",
      "symbol             0\n",
      "dividend           0\n",
      "eps                0\n",
      "nasdaqIndex        0\n",
      "numberOfShare      0\n",
      "pe                 0\n",
      "price              0\n",
      "profitPerShare     0\n",
      "revenuePerShare    0\n",
      "dtype: int64\n"
     ]
    },
    {
     "data": {
      "text/plain": [
       "False"
      ]
     },
     "execution_count": 3,
     "metadata": {},
     "output_type": "execute_result"
    }
   ],
   "source": [
    "# Replacing infinite values with NaN and then\n",
    "# Cleaning out the null or nan values\n",
    "AllDF.replace([np.inf, -np.inf], np.nan)\n",
    "AllDF.dropna()\n",
    "# Dropping the 'NaN' rows that is read as string\n",
    "AllDF = AllDF[~AllDF['nasdaqIndex'].isin(['NaN'])]\n",
    "\n",
    "print(AllDF.shape)\n",
    "print(AllDF.isna().sum())\n",
    "AllDF.isnull().values.any()"
   ]
  },
  {
   "cell_type": "markdown",
   "metadata": {},
   "source": [
    "Even after cleaning the whole dataframe in the the manner showed above, we still face with some unresolved anomalies like infinite values, NaN values for some columns that could not be resolved in any meaningful way. We tried working on the model using all the data rows available(about half a million), but those anomalies hindered progress. Instead, we manually checked for some companies that carries valid data and a created a dataframe with only those valid rows."
   ]
  },
  {
   "cell_type": "code",
   "execution_count": 4,
   "metadata": {},
   "outputs": [
    {
     "data": {
      "text/plain": [
       "(10250, 12)"
      ]
     },
     "execution_count": 4,
     "metadata": {},
     "output_type": "execute_result"
    }
   ],
   "source": [
    "### Taking only the desired company date\n",
    "df = AllDF.loc[AllDF['symbol'].isin(['AAL', 'AAPL', 'ATVI', 'BAC', 'BAM', 'CMCSA', 'CSCO', 'CVX', 'DAL', 'DCP', 'EARN', 'EBSB', 'F', 'FOXA', 'GBCI', 'HAYN', 'INTC', 'KCAP', 'JBLU', 'JNJ', 'JPM', 'LAND', 'MCD', 'MSFT', 'NVDA', 'OFC', 'PFE', 'QCOM', 'RAVN', 'RELL', 'SQM', 'SPR', 'T', 'TEVA', 'UNH', 'VZ', 'WFC', 'WMT', 'XOM', 'Y', 'YUM', 'ZEUS', 'ZBRA'])]\n",
    "#df = AllDF.loc[AllDF['symbol'].isin(['AAPL'])]\n",
    "df.shape"
   ]
  },
  {
   "cell_type": "code",
   "execution_count": 5,
   "metadata": {},
   "outputs": [
    {
     "name": "stdout",
     "output_type": "stream",
     "text": [
      "(10250, 12)\n",
      "Unnamed: 0         0\n",
      "date               0\n",
      "company            0\n",
      "symbol             0\n",
      "dividend           0\n",
      "eps                0\n",
      "nasdaqIndex        0\n",
      "numberOfShare      0\n",
      "pe                 0\n",
      "price              0\n",
      "profitPerShare     0\n",
      "revenuePerShare    0\n",
      "dtype: int64\n"
     ]
    },
    {
     "data": {
      "text/plain": [
       "False"
      ]
     },
     "execution_count": 5,
     "metadata": {},
     "output_type": "execute_result"
    }
   ],
   "source": [
    "print(df.shape)\n",
    "print(df.isna().sum())\n",
    "df.isnull().values.any()"
   ]
  },
  {
   "cell_type": "code",
   "execution_count": null,
   "metadata": {},
   "outputs": [],
   "source": []
  },
  {
   "cell_type": "code",
   "execution_count": 6,
   "metadata": {},
   "outputs": [
    {
     "name": "stdout",
     "output_type": "stream",
     "text": [
      "786    21.4096\n",
      "787    20.9613\n",
      "788    21.6288\n",
      "Name: price, dtype: float64\n"
     ]
    },
    {
     "data": {
      "text/html": [
       "<div>\n",
       "<style scoped>\n",
       "    .dataframe tbody tr th:only-of-type {\n",
       "        vertical-align: middle;\n",
       "    }\n",
       "\n",
       "    .dataframe tbody tr th {\n",
       "        vertical-align: top;\n",
       "    }\n",
       "\n",
       "    .dataframe thead th {\n",
       "        text-align: right;\n",
       "    }\n",
       "</style>\n",
       "<table border=\"1\" class=\"dataframe\">\n",
       "  <thead>\n",
       "    <tr style=\"text-align: right;\">\n",
       "      <th></th>\n",
       "      <th>dividend</th>\n",
       "      <th>eps</th>\n",
       "      <th>nasdaqIndex</th>\n",
       "      <th>numberOfShare</th>\n",
       "      <th>pe</th>\n",
       "      <th>profitPerShare</th>\n",
       "      <th>revenuePerShare</th>\n",
       "    </tr>\n",
       "  </thead>\n",
       "  <tbody>\n",
       "    <tr>\n",
       "      <th>786</th>\n",
       "      <td>0.02</td>\n",
       "      <td>0.835</td>\n",
       "      <td>6.87508</td>\n",
       "      <td>8.972450e+06</td>\n",
       "      <td>21.4096</td>\n",
       "      <td>20.483815</td>\n",
       "      <td>0</td>\n",
       "    </tr>\n",
       "    <tr>\n",
       "      <th>787</th>\n",
       "      <td>0.02</td>\n",
       "      <td>0.835</td>\n",
       "      <td>6.86232</td>\n",
       "      <td>9.164344e+06</td>\n",
       "      <td>20.9613</td>\n",
       "      <td>20.054900</td>\n",
       "      <td>0</td>\n",
       "    </tr>\n",
       "    <tr>\n",
       "      <th>788</th>\n",
       "      <td>0.02</td>\n",
       "      <td>0.835</td>\n",
       "      <td>6.87580</td>\n",
       "      <td>8.881517e+06</td>\n",
       "      <td>21.6288</td>\n",
       "      <td>20.693536</td>\n",
       "      <td>0</td>\n",
       "    </tr>\n",
       "  </tbody>\n",
       "</table>\n",
       "</div>"
      ],
      "text/plain": [
       "     dividend    eps  nasdaqIndex  numberOfShare       pe  profitPerShare  \\\n",
       "786      0.02  0.835      6.87508   8.972450e+06  21.4096       20.483815   \n",
       "787      0.02  0.835      6.86232   9.164344e+06  20.9613       20.054900   \n",
       "788      0.02  0.835      6.87580   8.881517e+06  21.6288       20.693536   \n",
       "\n",
       "     revenuePerShare  \n",
       "786                0  \n",
       "787                0  \n",
       "788                0  "
      ]
     },
     "execution_count": 6,
     "metadata": {},
     "output_type": "execute_result"
    }
   ],
   "source": [
    "### Cleaning the dataframe df to have only features that have numeric values as well as \n",
    "# dividing the DataFrame in X(Features) and Y(Target)\n",
    "X = df[['dividend', 'eps', 'nasdaqIndex', 'numberOfShare', 'pe', 'profitPerShare', 'revenuePerShare']].copy()\n",
    "Y = df.price\n",
    "print(Y.head(3))\n",
    "X.head(3)"
   ]
  },
  {
   "cell_type": "code",
   "execution_count": null,
   "metadata": {},
   "outputs": [],
   "source": []
  },
  {
   "cell_type": "code",
   "execution_count": 7,
   "metadata": {},
   "outputs": [],
   "source": [
    "### Normalizing every feature column### Normalizing every feature column\n",
    "# Have not used this function though\n",
    "def normalize(x):\n",
    "    z=x\n",
    "    if(x.min() < x.max()):\n",
    "        z = (x - x.min()) / (x.max() - x.min())\n",
    "    return z\n",
    "\n",
    "#for x in X:\n",
    "#    X[x] = normalize(X[x])\n",
    "#X.head(5)"
   ]
  },
  {
   "cell_type": "markdown",
   "metadata": {},
   "source": [
    "To test the performance of different models, we tested the data on various model. "
   ]
  },
  {
   "cell_type": "code",
   "execution_count": 8,
   "metadata": {},
   "outputs": [
    {
     "name": "stdout",
     "output_type": "stream",
     "text": [
      "Test set RMSE of dt: 54.68\n"
     ]
    }
   ],
   "source": [
    "# Splitting the dataset into train and test so that we have a holdout set to test our model's performance\n",
    "X_train, X_test, y_train, y_test = train_test_split(X, Y, test_size=0.3, random_state=1)\n",
    "\n",
    "# Instantiate dt: min_samples_leaf tells the model to keep at least 10% data for each leaf\n",
    "dt = DecisionTreeRegressor(max_depth=8, min_samples_leaf=0.1, random_state=3)\n",
    "\n",
    "# Fit dt to the training set\n",
    "dt.fit(X_train, y_train)\n",
    "\n",
    "# Compute y_pred\n",
    "y_pred = dt.predict(X_test)\n",
    "\n",
    "# Compute mse_dt\n",
    "mse_dt = MSE(y_test, y_pred)\n",
    "\n",
    "# Compute rmse_dt\n",
    "rmse_dt = mse_dt**(1/2)\n",
    "\n",
    "# Print rmse_dt\n",
    "print(\"Test set RMSE of dt: {:.2f}\".format(rmse_dt))\n"
   ]
  },
  {
   "cell_type": "markdown",
   "metadata": {},
   "source": [
    "As we can see from the RMSE valaue, the prediction performed very poorly even by a more sophisticated tool than a linear regressor. The decision tree regressor model works by creating decision tree to capture more sophisticated data pattern that a linear regressor model might miss. Still we have not got a desired performance. \n",
    "We trained Random Forest Regressor on the same dataset, but got a much much better performance. Random forest is an ensemble method that uses decision tree as base estimator. But unlike the Decision Tree Regressor to use only one model, it creates n_estimators. Each estimator is trained on a different bootstrap sample having the same size as the training set. After the training, when an example is fed to the model, each of the estimators outputs a prediction. The final prediction is the average of all the labels predicted by the estimators. "
   ]
  },
  {
   "cell_type": "code",
   "execution_count": 9,
   "metadata": {},
   "outputs": [
    {
     "name": "stdout",
     "output_type": "stream",
     "text": [
      "Test set RMSE of rf: 0.16\n"
     ]
    },
    {
     "data": {
      "image/png": "[encoded data removed]",
      "text/plain": [
       "<Figure size 432x288 with 1 Axes>"
      ]
     },
     "metadata": {},
     "output_type": "display_data"
    }
   ],
   "source": [
    "### To see what features contribute the most toward price determination\n",
    "\n",
    "# Instantiate the datamodel rf\n",
    "rf = RandomForestRegressor(n_estimators=25, random_state=2)\n",
    "\n",
    "# Fit rf to the training set    \n",
    "rf.fit(X_train, y_train)\n",
    "\n",
    "# Predict the test set labels\n",
    "y_pred = rf.predict(X_test)\n",
    "\n",
    "# Evaluate the test set RMSE\n",
    "rmse_test = MSE(y_test, y_pred)**(1/2)\n",
    "\n",
    "# Print rmse_test\n",
    "print('Test set RMSE of rf: {:.2f}'.format(rmse_test))\n",
    "\n",
    "# Create a pd.Series of features importances\n",
    "importances = pd.Series(data=rf.feature_importances_, index= X_train.columns)\n",
    "\n",
    "# Sort importances\n",
    "importances_sorted = importances.sort_values()\n",
    "\n",
    "# Draw a horizontal barplot of importances_sorted\n",
    "importances_sorted.plot(kind='barh', color='lightgreen')\n",
    "plt.title('Features Importances')\n",
    "plt.show()"
   ]
  },
  {
   "cell_type": "code",
   "execution_count": 10,
   "metadata": {},
   "outputs": [
    {
     "name": "stdout",
     "output_type": "stream",
     "text": [
      "Populating the interactive namespace from numpy and matplotlib\n"
     ]
    },
    {
     "data": {
      "image/png": "[encoded data removed]",
      "text/plain": [
       "<Figure size 1080x576 with 4 Axes>"
      ]
     },
     "metadata": {},
     "output_type": "display_data"
    }
   ],
   "source": [
    "# Visualizig correlation between stock price and pe\n",
    "# This will set all figures in the document (unless otherwise specified) to be of the size (15, 8)\n",
    "%pylab inline\n",
    "pylab.rcParams['figure.figsize'] = (15, 8)\n",
    "\n",
    "plt.subplot(2, 2, 1)\n",
    "plt.scatter(df.pe, df.price, alpha=0.5, marker=r'$\\clubsuit$')\n",
    "\n",
    "plt.subplot(2, 2, 2)\n",
    "plt.scatter(df.eps, df.price, alpha=0.5, marker=r'$\\clubsuit$')\n",
    "\n",
    "plt.subplot(2, 2, 3)\n",
    "plt.scatter(df.dividend, df.price, alpha=0.5, marker=r'$\\clubsuit$')\n",
    "\n",
    "plt.subplot(2, 2, 4)\n",
    "plt.scatter(df.profitPerShare, df.price, alpha=0.5, marker=r'$\\clubsuit$')\n",
    "\n",
    "plt.show()\n"
   ]
  },
  {
   "cell_type": "markdown",
   "metadata": {},
   "source": [
    "As we can see from the figures above, the graph obtained from the correlation between ProfitPerShare and price is very significant though the Random Forest Regressor failed to capture that or probably it is so varied that the model chose to ignore it by not giving it much waith. "
   ]
  },
  {
   "cell_type": "code",
   "execution_count": 11,
   "metadata": {},
   "outputs": [
    {
     "name": "stdout",
     "output_type": "stream",
     "text": [
      "[0.55254394 0.99715508 0.99998511 0.99976071 0.99548291 0.99558593\n",
      " 0.99990765 0.9995818  0.98983083 0.9995692 ]\n"
     ]
    },
    {
     "data": {
      "text/plain": [
       "0.9529403156853734"
      ]
     },
     "execution_count": 11,
     "metadata": {},
     "output_type": "execute_result"
    }
   ],
   "source": [
    "### R-Squared for Linear Regression; to check the model performance statistically\n",
    "from sklearn.model_selection import cross_val_score\n",
    "cv_results = cross_val_score(rf, X, Y, cv=10)\n",
    "print(cv_results)\n",
    "np.mean(cv_results)"
   ]
  },
  {
   "cell_type": "markdown",
   "metadata": {},
   "source": [
    "# Challenges\n",
    "First of all, to come up with valid features was a challenge. What features we feed into the model to train on. To ease the process of investing, we faced with a challenge of learning finance. Having a finance major in our team could have been very fruitful since we are not so educated with all those finance terms. \n",
    "Second, the data was not ready anywhere. Though, we got most of our data from [IEX API](https://iextrading.com/developer/docs/), it did not come in a form to be used in the data model. We had to check for missing values, values not in proper format etc. \n"
   ]
  },
  {
   "cell_type": "code",
   "execution_count": 12,
   "metadata": {},
   "outputs": [],
   "source": [
    "# Things to consider: stocks will tend to be correlated with each other"
   ]
  },
  {
   "cell_type": "code",
   "execution_count": null,
   "metadata": {},
   "outputs": [],
   "source": []
  }
 ],
 "metadata": {
  "kernelspec": {
   "display_name": "Python 3",
   "language": "python",
   "name": "python3"
  },
  "language_info": {
   "codemirror_mode": {
    "name": "ipython",
    "version": 3
   },
   "file_extension": ".py",
   "mimetype": "text/x-python",
   "name": "python",
   "nbconvert_exporter": "python",
   "pygments_lexer": "ipython3",
   "version": "3.6.5"
  }
 },
 "nbformat": 4,
 "nbformat_minor": 2
}
