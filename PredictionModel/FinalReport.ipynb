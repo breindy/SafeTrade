{
 "cells": [
  {
   "cell_type": "markdown",
   "metadata": {},
   "source": [
    "# <center>Final Report on the Project  \n",
    "# <center>[Safe Trade: Stock Prediction](https://github.com/breindy/SafeTrade)\n",
    "Shofiqur Rahman<br>\n",
    "Bashir Ahamed<br>\n",
    "Michelle Uy<br>\n",
    "Thierno Diallo<br><br>\n",
    "Grant Long<br>\n",
    "CSC.59970<br>\n",
    "December 10, 2018"
   ]
  },
  {
   "cell_type": "markdown",
   "metadata": {},
   "source": [
    "For the purpose of creating the model, we had to spend a lot of time on just data gathering and cleaning. Since these finance data could not be found anywhere ready as to be used in modelling, we had to query into different API's to get the data and have them ready for analysis. Most of the data came from [IEX API](https://iextrading.com/developer/docs/), but the stock exchange index data came from [Yahoo Finance](https://finance.yahoo.com/quote/%5EIXIC/history?ltr=1). \n",
    "We wrote a separate [python script](AggregateData.py) to fetch the necessary data. We had the data cleaned and ready to be used in model building process by the same script. The script basically makes request to the IEX API to fetch all the company symbols. For each symbol that are presently in transaction in the IEX Exchange, the script makes subsequent calls to fetch the whole year eps, dividend, and all other features value and add them to the main dataframe in iterations. "
   ]
  },
  {
   "cell_type": "code",
   "execution_count": 19,
   "metadata": {},
   "outputs": [
    {
     "name": "stdout",
     "output_type": "stream",
     "text": [
      "<class 'pandas.core.frame.DataFrame'>\n",
      "RangeIndex: 537295 entries, 0 to 537294\n",
      "Data columns (total 12 columns):\n",
      "Unnamed: 0         537295 non-null int64\n",
      "date               537295 non-null object\n",
      "company            537295 non-null object\n",
      "symbol             537295 non-null object\n",
      "dividend           537295 non-null float64\n",
      "eps                537295 non-null float64\n",
      "grossProfit        537295 non-null float64\n",
      "nasdaqIndex        537295 non-null float64\n",
      "marketcap          537295 non-null int64\n",
      "pe                 537295 non-null float64\n",
      "price              537295 non-null float64\n",
      "revenuePerShare    537295 non-null int64\n",
      "dtypes: float64(6), int64(3), object(3)\n",
      "memory usage: 49.2+ MB\n",
      "None\n"
     ]
    },
    {
     "data": {
      "text/html": [
       "<div>\n",
       "<style scoped>\n",
       "    .dataframe tbody tr th:only-of-type {\n",
       "        vertical-align: middle;\n",
       "    }\n",
       "\n",
       "    .dataframe tbody tr th {\n",
       "        vertical-align: top;\n",
       "    }\n",
       "\n",
       "    .dataframe thead th {\n",
       "        text-align: right;\n",
       "    }\n",
       "</style>\n",
       "<table border=\"1\" class=\"dataframe\">\n",
       "  <thead>\n",
       "    <tr style=\"text-align: right;\">\n",
       "      <th></th>\n",
       "      <th>Unnamed: 0</th>\n",
       "      <th>date</th>\n",
       "      <th>company</th>\n",
       "      <th>symbol</th>\n",
       "      <th>dividend</th>\n",
       "      <th>eps</th>\n",
       "      <th>grossProfit</th>\n",
       "      <th>nasdaqIndex</th>\n",
       "      <th>marketcap</th>\n",
       "      <th>pe</th>\n",
       "      <th>price</th>\n",
       "      <th>revenuePerShare</th>\n",
       "    </tr>\n",
       "  </thead>\n",
       "  <tbody>\n",
       "    <tr>\n",
       "      <th>0</th>\n",
       "      <td>0</td>\n",
       "      <td>2017-12-04</td>\n",
       "      <td>Zoetis Inc. Class A</td>\n",
       "      <td>ZTS</td>\n",
       "      <td>0.105</td>\n",
       "      <td>0.76</td>\n",
       "      <td>3.068000e+09</td>\n",
       "      <td>6775.370117</td>\n",
       "      <td>45099924293</td>\n",
       "      <td>70.5991</td>\n",
       "      <td>70.5991</td>\n",
       "      <td>3</td>\n",
       "    </tr>\n",
       "    <tr>\n",
       "      <th>1</th>\n",
       "      <td>1</td>\n",
       "      <td>2017-12-05</td>\n",
       "      <td>Zoetis Inc. Class A</td>\n",
       "      <td>ZTS</td>\n",
       "      <td>0.105</td>\n",
       "      <td>0.76</td>\n",
       "      <td>3.068000e+09</td>\n",
       "      <td>6762.209961</td>\n",
       "      <td>45099924293</td>\n",
       "      <td>70.4302</td>\n",
       "      <td>70.4302</td>\n",
       "      <td>3</td>\n",
       "    </tr>\n",
       "    <tr>\n",
       "      <th>2</th>\n",
       "      <td>2</td>\n",
       "      <td>2017-12-06</td>\n",
       "      <td>Zoetis Inc. Class A</td>\n",
       "      <td>ZTS</td>\n",
       "      <td>0.105</td>\n",
       "      <td>0.76</td>\n",
       "      <td>3.068000e+09</td>\n",
       "      <td>6776.379883</td>\n",
       "      <td>45099924293</td>\n",
       "      <td>70.5494</td>\n",
       "      <td>70.5494</td>\n",
       "      <td>3</td>\n",
       "    </tr>\n",
       "    <tr>\n",
       "      <th>3</th>\n",
       "      <td>3</td>\n",
       "      <td>2017-12-07</td>\n",
       "      <td>Zoetis Inc. Class A</td>\n",
       "      <td>ZTS</td>\n",
       "      <td>0.105</td>\n",
       "      <td>0.76</td>\n",
       "      <td>3.068000e+09</td>\n",
       "      <td>6812.839844</td>\n",
       "      <td>45099924293</td>\n",
       "      <td>71.2155</td>\n",
       "      <td>71.2155</td>\n",
       "      <td>3</td>\n",
       "    </tr>\n",
       "    <tr>\n",
       "      <th>4</th>\n",
       "      <td>4</td>\n",
       "      <td>2017-12-08</td>\n",
       "      <td>Zoetis Inc. Class A</td>\n",
       "      <td>ZTS</td>\n",
       "      <td>0.105</td>\n",
       "      <td>0.76</td>\n",
       "      <td>3.068000e+09</td>\n",
       "      <td>6840.080078</td>\n",
       "      <td>45099924293</td>\n",
       "      <td>71.4541</td>\n",
       "      <td>71.4541</td>\n",
       "      <td>3</td>\n",
       "    </tr>\n",
       "  </tbody>\n",
       "</table>\n",
       "</div>"
      ],
      "text/plain": [
       "   Unnamed: 0        date              company symbol  dividend   eps  \\\n",
       "0           0  2017-12-04  Zoetis Inc. Class A    ZTS     0.105  0.76   \n",
       "1           1  2017-12-05  Zoetis Inc. Class A    ZTS     0.105  0.76   \n",
       "2           2  2017-12-06  Zoetis Inc. Class A    ZTS     0.105  0.76   \n",
       "3           3  2017-12-07  Zoetis Inc. Class A    ZTS     0.105  0.76   \n",
       "4           4  2017-12-08  Zoetis Inc. Class A    ZTS     0.105  0.76   \n",
       "\n",
       "    grossProfit  nasdaqIndex    marketcap       pe    price  revenuePerShare  \n",
       "0  3.068000e+09  6775.370117  45099924293  70.5991  70.5991                3  \n",
       "1  3.068000e+09  6762.209961  45099924293  70.4302  70.4302                3  \n",
       "2  3.068000e+09  6776.379883  45099924293  70.5494  70.5494                3  \n",
       "3  3.068000e+09  6812.839844  45099924293  71.2155  71.2155                3  \n",
       "4  3.068000e+09  6840.080078  45099924293  71.4541  71.4541                3  "
      ]
     },
     "execution_count": 19,
     "metadata": {},
     "output_type": "execute_result"
    }
   ],
   "source": [
    "import pandas as pd\n",
    "import numpy as np\n",
    "from sklearn.model_selection import train_test_split\n",
    "from sklearn.ensemble import RandomForestRegressor\n",
    "\n",
    "df = pd.read_csv('AllStockData.csv')\n",
    "\n",
    "#print(df.describe())\n",
    "print(df.info())\n",
    "df.head()"
   ]
  },
  {
   "cell_type": "code",
   "execution_count": 20,
   "metadata": {},
   "outputs": [
    {
     "data": {
      "text/plain": [
       "False"
      ]
     },
     "execution_count": 20,
     "metadata": {},
     "output_type": "execute_result"
    }
   ],
   "source": [
    "df.replace([np.inf, -np.inf], 100)\n",
    "\n",
    "df.isnull().values.any()"
   ]
  },
  {
   "cell_type": "code",
   "execution_count": 21,
   "metadata": {},
   "outputs": [
    {
     "name": "stdout",
     "output_type": "stream",
     "text": [
      "   dividend   eps   grossProfit    marketcap  nasdaqIndex       pe  \\\n",
      "0     0.105  0.76  3.068000e+09  45099924293  6775.370117  70.5991   \n",
      "1     0.105  0.76  3.068000e+09  45099924293  6762.209961  70.4302   \n",
      "2     0.105  0.76  3.068000e+09  45099924293  6776.379883  70.5494   \n",
      "\n",
      "   revenuePerShare  \n",
      "0                3  \n",
      "1                3  \n",
      "2                3  \n",
      "0    70.5991\n",
      "1    70.4302\n",
      "2    70.5494\n",
      "Name: price, dtype: float64\n"
     ]
    }
   ],
   "source": [
    "### Cleaning the dataframe df to have only features that have numeric values as well as \n",
    "# dividing the DataFrame in X(Features) and Y(Target)\n",
    "X = df[['dividend', 'eps', 'grossProfit', 'marketcap', 'nasdaqIndex', 'pe', 'revenuePerShare']].copy()\n",
    "Y = df.price\n",
    "print(X.head(3))\n",
    "print(Y.head(3))"
   ]
  },
  {
   "cell_type": "code",
   "execution_count": null,
   "metadata": {},
   "outputs": [],
   "source": []
  },
  {
   "cell_type": "code",
   "execution_count": null,
   "metadata": {},
   "outputs": [],
   "source": []
  },
  {
   "cell_type": "code",
   "execution_count": 22,
   "metadata": {},
   "outputs": [
    {
     "ename": "ValueError",
     "evalue": "Input contains NaN, infinity or a value too large for dtype('float32').",
     "output_type": "error",
     "traceback": [
      "\u001b[0;31m---------------------------------------------------------------------------\u001b[0m",
      "\u001b[0;31mValueError\u001b[0m                                Traceback (most recent call last)",
      "\u001b[0;32m<ipython-input-22-c05d13de9d7b>\u001b[0m in \u001b[0;36m<module>\u001b[0;34m()\u001b[0m\n\u001b[1;32m      8\u001b[0m \u001b[0;34m\u001b[0m\u001b[0m\n\u001b[1;32m      9\u001b[0m \u001b[0;31m# Fit rf to the training set\u001b[0m\u001b[0;34m\u001b[0m\u001b[0;34m\u001b[0m\u001b[0m\n\u001b[0;32m---> 10\u001b[0;31m \u001b[0mrf\u001b[0m\u001b[0;34m.\u001b[0m\u001b[0mfit\u001b[0m\u001b[0;34m(\u001b[0m\u001b[0mX_train\u001b[0m\u001b[0;34m,\u001b[0m \u001b[0my_train\u001b[0m\u001b[0;34m)\u001b[0m\u001b[0;34m\u001b[0m\u001b[0m\n\u001b[0m\u001b[1;32m     11\u001b[0m \u001b[0;34m\u001b[0m\u001b[0m\n\u001b[1;32m     12\u001b[0m \u001b[0;31m# Predict the test set labels\u001b[0m\u001b[0;34m\u001b[0m\u001b[0;34m\u001b[0m\u001b[0m\n",
      "\u001b[0;32m/anaconda3/lib/python3.6/site-packages/sklearn/ensemble/forest.py\u001b[0m in \u001b[0;36mfit\u001b[0;34m(self, X, y, sample_weight)\u001b[0m\n\u001b[1;32m    245\u001b[0m         \"\"\"\n\u001b[1;32m    246\u001b[0m         \u001b[0;31m# Validate or convert input data\u001b[0m\u001b[0;34m\u001b[0m\u001b[0;34m\u001b[0m\u001b[0m\n\u001b[0;32m--> 247\u001b[0;31m         \u001b[0mX\u001b[0m \u001b[0;34m=\u001b[0m \u001b[0mcheck_array\u001b[0m\u001b[0;34m(\u001b[0m\u001b[0mX\u001b[0m\u001b[0;34m,\u001b[0m \u001b[0maccept_sparse\u001b[0m\u001b[0;34m=\u001b[0m\u001b[0;34m\"csc\"\u001b[0m\u001b[0;34m,\u001b[0m \u001b[0mdtype\u001b[0m\u001b[0;34m=\u001b[0m\u001b[0mDTYPE\u001b[0m\u001b[0;34m)\u001b[0m\u001b[0;34m\u001b[0m\u001b[0m\n\u001b[0m\u001b[1;32m    248\u001b[0m         \u001b[0my\u001b[0m \u001b[0;34m=\u001b[0m \u001b[0mcheck_array\u001b[0m\u001b[0;34m(\u001b[0m\u001b[0my\u001b[0m\u001b[0;34m,\u001b[0m \u001b[0maccept_sparse\u001b[0m\u001b[0;34m=\u001b[0m\u001b[0;34m'csc'\u001b[0m\u001b[0;34m,\u001b[0m \u001b[0mensure_2d\u001b[0m\u001b[0;34m=\u001b[0m\u001b[0;32mFalse\u001b[0m\u001b[0;34m,\u001b[0m \u001b[0mdtype\u001b[0m\u001b[0;34m=\u001b[0m\u001b[0;32mNone\u001b[0m\u001b[0;34m)\u001b[0m\u001b[0;34m\u001b[0m\u001b[0m\n\u001b[1;32m    249\u001b[0m         \u001b[0;32mif\u001b[0m \u001b[0msample_weight\u001b[0m \u001b[0;32mis\u001b[0m \u001b[0;32mnot\u001b[0m \u001b[0;32mNone\u001b[0m\u001b[0;34m:\u001b[0m\u001b[0;34m\u001b[0m\u001b[0m\n",
      "\u001b[0;32m/anaconda3/lib/python3.6/site-packages/sklearn/utils/validation.py\u001b[0m in \u001b[0;36mcheck_array\u001b[0;34m(array, accept_sparse, dtype, order, copy, force_all_finite, ensure_2d, allow_nd, ensure_min_samples, ensure_min_features, warn_on_dtype, estimator)\u001b[0m\n\u001b[1;32m    451\u001b[0m                              % (array.ndim, estimator_name))\n\u001b[1;32m    452\u001b[0m         \u001b[0;32mif\u001b[0m \u001b[0mforce_all_finite\u001b[0m\u001b[0;34m:\u001b[0m\u001b[0;34m\u001b[0m\u001b[0m\n\u001b[0;32m--> 453\u001b[0;31m             \u001b[0m_assert_all_finite\u001b[0m\u001b[0;34m(\u001b[0m\u001b[0marray\u001b[0m\u001b[0;34m)\u001b[0m\u001b[0;34m\u001b[0m\u001b[0m\n\u001b[0m\u001b[1;32m    454\u001b[0m \u001b[0;34m\u001b[0m\u001b[0m\n\u001b[1;32m    455\u001b[0m     \u001b[0mshape_repr\u001b[0m \u001b[0;34m=\u001b[0m \u001b[0m_shape_repr\u001b[0m\u001b[0;34m(\u001b[0m\u001b[0marray\u001b[0m\u001b[0;34m.\u001b[0m\u001b[0mshape\u001b[0m\u001b[0;34m)\u001b[0m\u001b[0;34m\u001b[0m\u001b[0m\n",
      "\u001b[0;32m/anaconda3/lib/python3.6/site-packages/sklearn/utils/validation.py\u001b[0m in \u001b[0;36m_assert_all_finite\u001b[0;34m(X)\u001b[0m\n\u001b[1;32m     42\u001b[0m             and not np.isfinite(X).all()):\n\u001b[1;32m     43\u001b[0m         raise ValueError(\"Input contains NaN, infinity\"\n\u001b[0;32m---> 44\u001b[0;31m                          \" or a value too large for %r.\" % X.dtype)\n\u001b[0m\u001b[1;32m     45\u001b[0m \u001b[0;34m\u001b[0m\u001b[0m\n\u001b[1;32m     46\u001b[0m \u001b[0;34m\u001b[0m\u001b[0m\n",
      "\u001b[0;31mValueError\u001b[0m: Input contains NaN, infinity or a value too large for dtype('float32')."
     ]
    }
   ],
   "source": [
    "### To see what features contribute the most toward price determination\n",
    "\n",
    "# Splitting the dataset into train and test so that we have a holdout set to test our model's performance\n",
    "X_train, X_test, y_train, y_test = train_test_split(X, Y, test_size=0.3, random_state=1)\n",
    "\n",
    "# Instantiate the datamodel rf\n",
    "rf = RandomForestRegressor(n_estimators=25, random_state=2)\n",
    "\n",
    "# Fit rf to the training set    \n",
    "rf.fit(X_train, y_train)\n",
    "\n",
    "# Predict the test set labels\n",
    "y_pred = rf.predict(X_test)\n",
    "\n",
    "# Evaluate the test set RMSE\n",
    "rmse_test = MSE(y_test, y_pred)**(1/2)\n",
    "\n",
    "# Print rmse_test\n",
    "print('Test set RMSE of rf: {:.2f}'.format(rmse_test))\n",
    "\n",
    "# Create a pd.Series of features importances\n",
    "importances = pd.Series(data=rf.feature_importances_, index= X_train.columns)\n",
    "\n",
    "# Sort importances\n",
    "importances_sorted = importances.sort_values()\n",
    "\n",
    "# Draw a horizontal barplot of importances_sorted\n",
    "importances_sorted.plot(kind='barh', color='lightgreen')\n",
    "plt.title('Features Importances')\n",
    "plt.show()"
   ]
  },
  {
   "cell_type": "code",
   "execution_count": null,
   "metadata": {},
   "outputs": [],
   "source": []
  },
  {
   "cell_type": "markdown",
   "metadata": {},
   "source": [
    "# Challenges\n",
    "First of all, to come up with valid features was a challenge. What features we feed into the model to train on. To ease the process of investing, we faced with a challenge of learning finance. Having a finance major in our team could have been very fruitful since we are not so educated with all those finance terms. \n",
    "Second, the data was not ready anywhere. Though, we got most of our data from [IEX API](https://iextrading.com/developer/docs/), it did not come in a form to be used in the data model. We had to check for missing values, values not in proper format etc. \n"
   ]
  },
  {
   "cell_type": "code",
   "execution_count": null,
   "metadata": {},
   "outputs": [],
   "source": [
    "# Things to consider: stocks will tend to be correlated with each other"
   ]
  }
 ],
 "metadata": {
  "kernelspec": {
   "display_name": "Python 3",
   "language": "python",
   "name": "python3"
  },
  "language_info": {
   "codemirror_mode": {
    "name": "ipython",
    "version": 3
   },
   "file_extension": ".py",
   "mimetype": "text/x-python",
   "name": "python",
   "nbconvert_exporter": "python",
   "pygments_lexer": "ipython3",
   "version": "3.6.5"
  }
 },
 "nbformat": 4,
 "nbformat_minor": 2
}
