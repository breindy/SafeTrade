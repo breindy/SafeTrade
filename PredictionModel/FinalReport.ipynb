{
 "cells": [
  {
   "cell_type": "markdown",
   "metadata": {},
   "source": [
    "# <center>Final Report on the Project  \n",
    "# <center>[Safe Trade: Stock Prediction](https://github.com/breindy/SafeTrade)\n",
    "Shofiqur Rahman<br>\n",
    "Bashir Ahamed<br>\n",
    "Michelle Uy<br>\n",
    "Thierno Diallo<br><br>\n",
    "Grant Long<br>\n",
    "CSC.59970<br>\n",
    "December 10, 2018"
   ]
  },
  {
   "cell_type": "markdown",
   "metadata": {},
   "source": [
    "For the purpose of creating the model, we had to spend a lot of time on just data gathering and cleaning. Since these finance data could not be found anywhere ready as to be used in modelling, we had to query into different API's to get the data and have them ready for analysis. Most of the data came from [IEX API](https://iextrading.com/developer/docs/), but the stock exchange index data came from [Yahoo Finance](https://finance.yahoo.com/quote/%5EIXIC/history?ltr=1). \n",
    "We wrote a separate [python script](AggregateData.py) to fetch the necessary data. We had the data cleaned and ready to be used in model building process by the same script. The script basically makes request to the IEX API to fetch all the company symbols. For each symbol that are presently in transaction in the IEX Exchange, the script makes subsequent calls to fetch the whole year eps, dividend, and all other features value and add them to the main dataframe in iterations one by one. "
   ]
  },
  {
   "cell_type": "code",
   "execution_count": 1,
   "metadata": {},
   "outputs": [
    {
     "data": {
      "text/html": [
       "<div>\n",
       "<style scoped>\n",
       "    .dataframe tbody tr th:only-of-type {\n",
       "        vertical-align: middle;\n",
       "    }\n",
       "\n",
       "    .dataframe tbody tr th {\n",
       "        vertical-align: top;\n",
       "    }\n",
       "\n",
       "    .dataframe thead th {\n",
       "        text-align: right;\n",
       "    }\n",
       "</style>\n",
       "<table border=\"1\" class=\"dataframe\">\n",
       "  <thead>\n",
       "    <tr style=\"text-align: right;\">\n",
       "      <th></th>\n",
       "      <th>Unnamed: 0</th>\n",
       "      <th>date</th>\n",
       "      <th>company</th>\n",
       "      <th>symbol</th>\n",
       "      <th>dividend</th>\n",
       "      <th>eps</th>\n",
       "      <th>nasdaqIndex</th>\n",
       "      <th>numberOfShare</th>\n",
       "      <th>pe</th>\n",
       "      <th>price</th>\n",
       "      <th>profitPerShare</th>\n",
       "      <th>revenuePerShare</th>\n",
       "    </tr>\n",
       "  </thead>\n",
       "  <tbody>\n",
       "    <tr>\n",
       "      <th>0</th>\n",
       "      <td>0</td>\n",
       "      <td>2017-11-28</td>\n",
       "      <td>Zoetis Inc. Class A</td>\n",
       "      <td>ZTS</td>\n",
       "      <td>0.105</td>\n",
       "      <td>0.76</td>\n",
       "      <td>NaN</td>\n",
       "      <td>5.963746e+08</td>\n",
       "      <td>70.9670</td>\n",
       "      <td>70.9670</td>\n",
       "      <td>5.144417</td>\n",
       "      <td>3</td>\n",
       "    </tr>\n",
       "    <tr>\n",
       "      <th>1</th>\n",
       "      <td>1</td>\n",
       "      <td>2017-11-29</td>\n",
       "      <td>Zoetis Inc. Class A</td>\n",
       "      <td>ZTS</td>\n",
       "      <td>0.105</td>\n",
       "      <td>0.76</td>\n",
       "      <td>NaN</td>\n",
       "      <td>5.945424e+08</td>\n",
       "      <td>71.1857</td>\n",
       "      <td>71.1857</td>\n",
       "      <td>5.160271</td>\n",
       "      <td>3</td>\n",
       "    </tr>\n",
       "    <tr>\n",
       "      <th>2</th>\n",
       "      <td>2</td>\n",
       "      <td>2017-11-30</td>\n",
       "      <td>Zoetis Inc. Class A</td>\n",
       "      <td>ZTS</td>\n",
       "      <td>0.105</td>\n",
       "      <td>0.76</td>\n",
       "      <td>NaN</td>\n",
       "      <td>5.889504e+08</td>\n",
       "      <td>71.8616</td>\n",
       "      <td>71.8616</td>\n",
       "      <td>5.209267</td>\n",
       "      <td>3</td>\n",
       "    </tr>\n",
       "    <tr>\n",
       "      <th>3</th>\n",
       "      <td>3</td>\n",
       "      <td>2017-12-01</td>\n",
       "      <td>Zoetis Inc. Class A</td>\n",
       "      <td>ZTS</td>\n",
       "      <td>0.105</td>\n",
       "      <td>0.76</td>\n",
       "      <td>NaN</td>\n",
       "      <td>5.888685e+08</td>\n",
       "      <td>71.8716</td>\n",
       "      <td>71.8716</td>\n",
       "      <td>5.209992</td>\n",
       "      <td>3</td>\n",
       "    </tr>\n",
       "    <tr>\n",
       "      <th>4</th>\n",
       "      <td>4</td>\n",
       "      <td>2017-12-04</td>\n",
       "      <td>Zoetis Inc. Class A</td>\n",
       "      <td>ZTS</td>\n",
       "      <td>0.105</td>\n",
       "      <td>0.76</td>\n",
       "      <td>NaN</td>\n",
       "      <td>5.994824e+08</td>\n",
       "      <td>70.5991</td>\n",
       "      <td>70.5991</td>\n",
       "      <td>5.117748</td>\n",
       "      <td>3</td>\n",
       "    </tr>\n",
       "  </tbody>\n",
       "</table>\n",
       "</div>"
      ],
      "text/plain": [
       "   Unnamed: 0        date              company symbol  dividend   eps  \\\n",
       "0           0  2017-11-28  Zoetis Inc. Class A    ZTS     0.105  0.76   \n",
       "1           1  2017-11-29  Zoetis Inc. Class A    ZTS     0.105  0.76   \n",
       "2           2  2017-11-30  Zoetis Inc. Class A    ZTS     0.105  0.76   \n",
       "3           3  2017-12-01  Zoetis Inc. Class A    ZTS     0.105  0.76   \n",
       "4           4  2017-12-04  Zoetis Inc. Class A    ZTS     0.105  0.76   \n",
       "\n",
       "   nasdaqIndex  numberOfShare       pe    price  profitPerShare  \\\n",
       "0          NaN   5.963746e+08  70.9670  70.9670        5.144417   \n",
       "1          NaN   5.945424e+08  71.1857  71.1857        5.160271   \n",
       "2          NaN   5.889504e+08  71.8616  71.8616        5.209267   \n",
       "3          NaN   5.888685e+08  71.8716  71.8716        5.209992   \n",
       "4          NaN   5.994824e+08  70.5991  70.5991        5.117748   \n",
       "\n",
       "   revenuePerShare  \n",
       "0                3  \n",
       "1                3  \n",
       "2                3  \n",
       "3                3  \n",
       "4                3  "
      ]
     },
     "execution_count": 1,
     "metadata": {},
     "output_type": "execute_result"
    }
   ],
   "source": [
    "import pandas as pd\n",
    "import numpy as np\n",
    "import matplotlib.pyplot as plt\n",
    "from sklearn.metrics import mean_squared_error as MSE\n",
    "from sklearn.model_selection import train_test_split\n",
    "from sklearn.tree import DecisionTreeRegressor\n",
    "from sklearn.ensemble import RandomForestRegressor\n",
    "from sklearn.metrics import accuracy_score\n",
    "\n",
    "AllDF = pd.read_csv('AllStockData.csv')\n",
    "AllDF.head()"
   ]
  },
  {
   "cell_type": "code",
   "execution_count": 2,
   "metadata": {},
   "outputs": [
    {
     "name": "stdout",
     "output_type": "stream",
     "text": [
      "(554185, 12)\n",
      "Unnamed: 0             0\n",
      "date                   0\n",
      "company                0\n",
      "symbol                 0\n",
      "dividend               0\n",
      "eps                    0\n",
      "nasdaqIndex        19225\n",
      "numberOfShare          0\n",
      "pe                     0\n",
      "price                  0\n",
      "profitPerShare         0\n",
      "revenuePerShare        0\n",
      "dtype: int64\n"
     ]
    },
    {
     "data": {
      "text/plain": [
       "True"
      ]
     },
     "execution_count": 2,
     "metadata": {},
     "output_type": "execute_result"
    }
   ],
   "source": [
    "print(AllDF.shape)\n",
    "print(AllDF.isna().sum())\n",
    "AllDF.isnull().values.any()"
   ]
  },
  {
   "cell_type": "code",
   "execution_count": 3,
   "metadata": {},
   "outputs": [
    {
     "name": "stdout",
     "output_type": "stream",
     "text": [
      "(534960, 12)\n",
      "Unnamed: 0         0\n",
      "date               0\n",
      "company            0\n",
      "symbol             0\n",
      "dividend           0\n",
      "eps                0\n",
      "nasdaqIndex        0\n",
      "numberOfShare      0\n",
      "pe                 0\n",
      "price              0\n",
      "profitPerShare     0\n",
      "revenuePerShare    0\n",
      "dtype: int64\n"
     ]
    },
    {
     "data": {
      "text/plain": [
       "False"
      ]
     },
     "execution_count": 3,
     "metadata": {},
     "output_type": "execute_result"
    }
   ],
   "source": [
    "# Replacing infinite values with NaN and then\n",
    "# Cleaning out the null or nan values\n",
    "AllDF.replace([np.inf, -np.inf], np.nan)\n",
    "AllDF.dropna()\n",
    "# Dropping the 'NaN' rows that is read as string\n",
    "AllDF = AllDF[~AllDF['nasdaqIndex'].isin(['NaN'])]\n",
    "\n",
    "print(AllDF.shape)\n",
    "print(AllDF.isna().sum())\n",
    "AllDF.isnull().values.any()"
   ]
  },
  {
   "cell_type": "markdown",
   "metadata": {},
   "source": [
    "Even after cleaning the whole dataframe in the the manner showed above, we still face with some unresolved anomalies like infinite values, NaN values for some columns that could not be resolved in any meaningful way. We tried working on the model using all the data rows available(about half a million), but those anomalies hindered progress. Instead, we manually checked for some companies that carries valid data and a created a dataframe with only those valid rows."
   ]
  },
  {
   "cell_type": "code",
   "execution_count": 4,
   "metadata": {},
   "outputs": [
    {
     "data": {
      "text/plain": [
       "(10250, 12)"
      ]
     },
     "execution_count": 4,
     "metadata": {},
     "output_type": "execute_result"
    }
   ],
   "source": [
    "### Taking only the desired company date\n",
    "df = AllDF.loc[AllDF['symbol'].isin(['AAL', 'AAPL', 'ATVI', 'BAC', 'BAM', 'CMCSA', 'CSCO', 'CVX', 'DAL', 'DCP', 'EARN', 'EBSB', 'F', 'FOXA', 'GBCI', 'HAYN', 'INTC', 'KCAP', 'JBLU', 'JNJ', 'JPM', 'LAND', 'MCD', 'MSFT', 'NVDA', 'OFC', 'PFE', 'QCOM', 'RAVN', 'RELL', 'SQM', 'SPR', 'T', 'TEVA', 'UNH', 'VZ', 'WFC', 'WMT', 'XOM', 'Y', 'YUM', 'ZEUS', 'ZBRA'])]\n",
    "#df = AllDF.loc[AllDF['symbol'].isin(['AAPL'])]\n",
    "df.shape"
   ]
  },
  {
   "cell_type": "code",
   "execution_count": 5,
   "metadata": {},
   "outputs": [
    {
     "name": "stdout",
     "output_type": "stream",
     "text": [
      "(10250, 12)\n",
      "Unnamed: 0         0\n",
      "date               0\n",
      "company            0\n",
      "symbol             0\n",
      "dividend           0\n",
      "eps                0\n",
      "nasdaqIndex        0\n",
      "numberOfShare      0\n",
      "pe                 0\n",
      "price              0\n",
      "profitPerShare     0\n",
      "revenuePerShare    0\n",
      "dtype: int64\n"
     ]
    },
    {
     "data": {
      "text/plain": [
       "False"
      ]
     },
     "execution_count": 5,
     "metadata": {},
     "output_type": "execute_result"
    }
   ],
   "source": [
    "print(df.shape)\n",
    "print(df.isna().sum())\n",
    "df.isnull().values.any()"
   ]
  },
  {
   "cell_type": "code",
   "execution_count": null,
   "metadata": {},
   "outputs": [],
   "source": []
  },
  {
   "cell_type": "code",
   "execution_count": 31,
   "metadata": {},
   "outputs": [
    {
     "name": "stdout",
     "output_type": "stream",
     "text": [
      "786    21.4096\n",
      "787    20.9613\n",
      "788    21.6288\n",
      "Name: price, dtype: float64\n"
     ]
    },
    {
     "data": {
      "text/html": [
       "<div>\n",
       "<style scoped>\n",
       "    .dataframe tbody tr th:only-of-type {\n",
       "        vertical-align: middle;\n",
       "    }\n",
       "\n",
       "    .dataframe tbody tr th {\n",
       "        vertical-align: top;\n",
       "    }\n",
       "\n",
       "    .dataframe thead th {\n",
       "        text-align: right;\n",
       "    }\n",
       "</style>\n",
       "<table border=\"1\" class=\"dataframe\">\n",
       "  <thead>\n",
       "    <tr style=\"text-align: right;\">\n",
       "      <th></th>\n",
       "      <th>date</th>\n",
       "      <th>dividend</th>\n",
       "      <th>eps</th>\n",
       "      <th>nasdaqIndex</th>\n",
       "      <th>numberOfShare</th>\n",
       "      <th>pe</th>\n",
       "      <th>profitPerShare</th>\n",
       "      <th>revenuePerShare</th>\n",
       "    </tr>\n",
       "  </thead>\n",
       "  <tbody>\n",
       "    <tr>\n",
       "      <th>786</th>\n",
       "      <td>20171211</td>\n",
       "      <td>0.02</td>\n",
       "      <td>0.835</td>\n",
       "      <td>6.87508</td>\n",
       "      <td>8.972450e+06</td>\n",
       "      <td>21.4096</td>\n",
       "      <td>20.483815</td>\n",
       "      <td>0</td>\n",
       "    </tr>\n",
       "    <tr>\n",
       "      <th>787</th>\n",
       "      <td>20171212</td>\n",
       "      <td>0.02</td>\n",
       "      <td>0.835</td>\n",
       "      <td>6.86232</td>\n",
       "      <td>9.164344e+06</td>\n",
       "      <td>20.9613</td>\n",
       "      <td>20.054900</td>\n",
       "      <td>0</td>\n",
       "    </tr>\n",
       "    <tr>\n",
       "      <th>788</th>\n",
       "      <td>20171213</td>\n",
       "      <td>0.02</td>\n",
       "      <td>0.835</td>\n",
       "      <td>6.87580</td>\n",
       "      <td>8.881517e+06</td>\n",
       "      <td>21.6288</td>\n",
       "      <td>20.693536</td>\n",
       "      <td>0</td>\n",
       "    </tr>\n",
       "  </tbody>\n",
       "</table>\n",
       "</div>"
      ],
      "text/plain": [
       "         date  dividend    eps  nasdaqIndex  numberOfShare       pe  \\\n",
       "786  20171211      0.02  0.835      6.87508   8.972450e+06  21.4096   \n",
       "787  20171212      0.02  0.835      6.86232   9.164344e+06  20.9613   \n",
       "788  20171213      0.02  0.835      6.87580   8.881517e+06  21.6288   \n",
       "\n",
       "     profitPerShare  revenuePerShare  \n",
       "786       20.483815                0  \n",
       "787       20.054900                0  \n",
       "788       20.693536                0  "
      ]
     },
     "execution_count": 31,
     "metadata": {},
     "output_type": "execute_result"
    }
   ],
   "source": [
    "### Cleaning the dataframe df to have only features that have numeric values as well as \n",
    "# dividing the DataFrame in X(Features) and Y(Target)\n",
    "X = df[['date', 'dividend', 'eps', 'nasdaqIndex', 'numberOfShare', 'pe', 'profitPerShare', 'revenuePerShare']].copy()\n",
    "X['date'] = X['date'].str.replace(\"-\",\"\").astype(int)\n",
    "Y = df.price\n",
    "print(Y.head(3))\n",
    "X.head(3)"
   ]
  },
  {
   "cell_type": "code",
   "execution_count": null,
   "metadata": {},
   "outputs": [],
   "source": []
  },
  {
   "cell_type": "code",
   "execution_count": 32,
   "metadata": {},
   "outputs": [],
   "source": [
    "### Normalizing every feature column### Normalizing every feature column\n",
    "# Have not used this function though\n",
    "def normalize(x):\n",
    "    z=x\n",
    "    if(x.min() < x.max()):\n",
    "        z = (x - x.min()) / (x.max() - x.min())\n",
    "    return z\n",
    "\n",
    "#for x in X:\n",
    "#    X[x] = normalize(X[x])\n",
    "#X.head(5)"
   ]
  },
  {
   "cell_type": "markdown",
   "metadata": {},
   "source": [
    "To test the performance of different models, we tested the data on various model. "
   ]
  },
  {
   "cell_type": "code",
   "execution_count": 34,
   "metadata": {},
   "outputs": [
    {
     "name": "stdout",
     "output_type": "stream",
     "text": [
      "Test set RMSE of dt: 54.68\n"
     ]
    }
   ],
   "source": [
    "# Splitting the dataset into train and test so that we have a holdout set to test our model's performance\n",
    "X_train, X_test, y_train, y_test = train_test_split(X, Y, test_size=0.3, random_state=1)\n",
    "\n",
    "# Instantiate dt: min_samples_leaf tells the model to keep at least 10% data for each leaf\n",
    "dt = DecisionTreeRegressor(max_depth=8, min_samples_leaf=0.1, random_state=3)\n",
    "\n",
    "# Fit dt to the training set\n",
    "dt.fit(X_train, y_train)\n",
    "\n",
    "# Compute y_pred\n",
    "y_pred = dt.predict(X_test)\n",
    "\n",
    "# Compute mse_dt\n",
    "mse_dt = MSE(y_test, y_pred)\n",
    "\n",
    "# Compute rmse_dt\n",
    "rmse_dt = mse_dt**(1/2)\n",
    "\n",
    "# Print rmse_dt\n",
    "print(\"Test set RMSE of dt: {:.2f}\".format(rmse_dt))\n"
   ]
  },
  {
   "cell_type": "markdown",
   "metadata": {},
   "source": [
    "As we can see from the RMSE valaue, the prediction performed very poorly even by a more sophisticated tool than a linear regressor. The decision tree regressor model works by creating decision tree to capture more sophisticated data pattern that a linear regressor model might miss. Still we have not got a desired performance. \n",
    "We trained Random Forest Regressor on the same dataset, but got a much much better performance. Random forest is an ensemble method that uses decision tree as base estimator. But unlike the Decision Tree Regressor to use only one model, it creates n_estimators. Each estimator is trained on a different bootstrap sample having the same size as the training set. After the training, when an example is fed to the model, each of the estimators outputs a prediction. The final prediction is the average of all the labels predicted by the estimators. "
   ]
  },
  {
   "cell_type": "code",
   "execution_count": 36,
   "metadata": {},
   "outputs": [
    {
     "name": "stdout",
     "output_type": "stream",
     "text": [
      "Test set RMSE of rf: 0.16\n"
     ]
    },
    {
     "data": {
      "image/png": "[encoded data removed]",
      "text/plain": [
       "<Figure size 1080x576 with 1 Axes>"
      ]
     },
     "metadata": {},
     "output_type": "display_data"
    }
   ],
   "source": [
    "### To see what features contribute the most toward price determination\n",
    "\n",
    "# Instantiate the datamodel rf\n",
    "rf = RandomForestRegressor(n_estimators=25, random_state=2)\n",
    "\n",
    "# Fit rf to the training set    \n",
    "rf.fit(X_train, y_train)\n",
    "\n",
    "# Predict the test set labels\n",
    "y_pred = rf.predict(X_test)\n",
    "\n",
    "# Evaluate the test set RMSE\n",
    "rmse_test = MSE(y_test, y_pred)**(1/2)\n",
    "\n",
    "# Print rmse_test\n",
    "print('Test set RMSE of rf: {:.2f}'.format(rmse_test))\n",
    "\n",
    "# Create a pd.Series of features importances\n",
    "importances = pd.Series(data=rf.feature_importances_, index= X_train.columns)\n",
    "\n",
    "# Sort importances\n",
    "importances_sorted = importances.sort_values()\n",
    "\n",
    "# Draw a horizontal barplot of importances_sorted\n",
    "importances_sorted.plot(kind='barh', color='lightgreen')\n",
    "plt.title('Features Importances')\n",
    "plt.show()"
   ]
  },
  {
   "cell_type": "code",
   "execution_count": 37,
   "metadata": {},
   "outputs": [
    {
     "name": "stdout",
     "output_type": "stream",
     "text": [
      "Populating the interactive namespace from numpy and matplotlib\n"
     ]
    },
    {
     "data": {
      "image/png": "[encoded data removed]",
      "text/plain": [
       "<Figure size 1080x576 with 4 Axes>"
      ]
     },
     "metadata": {},
     "output_type": "display_data"
    }
   ],
   "source": [
    "# Visualizig correlation between stock price and pe\n",
    "# This will set all figures in the document (unless otherwise specified) to be of the size (15, 8)\n",
    "%pylab inline\n",
    "pylab.rcParams['figure.figsize'] = (15, 8)\n",
    "# T adjust the display of each subplot\n",
    "plt.subplots_adjust(bottom=None, top=1.2)\n",
    "\n",
    "plt.subplot(2, 2, 1)\n",
    "plt.scatter(df.pe, df.price, color='cyan')\n",
    "plt.title(\"PE V. Price\")\n",
    "plt.xlabel('PE')\n",
    "plt.ylabel('Price')\n",
    "\n",
    "plt.subplot(2, 2, 2)\n",
    "plt.scatter(df.eps, df.price, color='cyan')\n",
    "plt.title(\"EPS V. Price\")\n",
    "plt.xlabel('EPS')\n",
    "plt.ylabel('Price')\n",
    "\n",
    "plt.subplot(2, 2, 3)\n",
    "plt.scatter(df.dividend, df.price, color='cyan')\n",
    "plt.title(\"Dividend V. Price\")\n",
    "plt.xlabel('Dividend')\n",
    "plt.ylabel('Price')\n",
    "\n",
    "plt.subplot(2, 2, 4)\n",
    "plt.scatter(df.profitPerShare, df.price, color='cyan')\n",
    "plt.title(\"Profit V. Price\")\n",
    "plt.xlabel('Profit')\n",
    "plt.ylabel('Price')\n",
    "\n",
    "plt.show()\n"
   ]
  },
  {
   "cell_type": "markdown",
   "metadata": {},
   "source": [
    "As we can see from the figures above, pe has the strongest positive correlation with price. Though the other attributes also show a positive correlation, still they behave differently with different copany. We also see that the graph obtained from the correlation between ProfitPerShare and price is very significant though the Random Forest Regressor failed to capture that or probably it is so varied that the model chose to ignore it by not giving it much weight. "
   ]
  },
  {
   "cell_type": "code",
   "execution_count": null,
   "metadata": {},
   "outputs": [],
   "source": []
  },
  {
   "cell_type": "markdown",
   "metadata": {},
   "source": [
    "We also tried to see how the model performs when trained with all data as opposed to trained only on its own company data. So again, we used the same Decision Tree Regressor model to build our individual company model and predicted on hold out data set. The prediction performance is displayed in the graph with actual price.\n"
   ]
  },
  {
   "cell_type": "code",
   "execution_count": 63,
   "metadata": {},
   "outputs": [
    {
     "name": "stdout",
     "output_type": "stream",
     "text": [
      "Populating the interactive namespace from numpy and matplotlib\n",
      "\n"
     ]
    },
    {
     "data": {
      "image/png": "[encoded data removed]",
      "text/plain": [
       "<Figure size 1080x576 with 2 Axes>"
      ]
     },
     "metadata": {},
     "output_type": "display_data"
    }
   ],
   "source": [
    "%pylab inline\n",
    "pylab.rcParams['figure.figsize'] = (15, 8)\n",
    "# Building model with CSCO data only\n",
    "cscoDF = AllDF.loc[AllDF['symbol'].isin(['AAPL'])]\n",
    "cscoX = cscoDF[['date', 'dividend', 'eps', 'nasdaqIndex', 'numberOfShare', 'pe', 'profitPerShare', 'revenuePerShare']].copy()\n",
    "# Converting date to int to be ready to be used in the model\n",
    "cscoX['date'] = cscoX['date'].str.replace(\"-\",\"\").astype(int)\n",
    "cscoY = cscoDF.price\n",
    "cscoX_train, cscoX_test, cscoy_train, cscoy_test = train_test_split(cscoX, cscoY, test_size=0.3, random_state=1)\n",
    "cscoRF = RandomForestRegressor(n_estimators=25, random_state=2)\n",
    "cscoRF.fit(cscoX_train, cscoy_train)\n",
    "cscoy_pred = cscoRF.predict(cscoX_test)\n",
    "ally_pred = rf.predict(cscoX_test)\n",
    "plt.subplot(2, 1, 1)\n",
    "plt.scatter(cscoX_test['date'], cscoy_test, color='red', label='Actual')\n",
    "plt.scatter(cscoX_test['date'], cscoy_pred, color='chartreuse', label='Predicted', alpha=0.5)\n",
    "plt.title(\"Single Company Prediction for CSCO\")\n",
    "plt.xlabel('Timeframe')\n",
    "plt.ylabel('Price')\n",
    "plt.legend(loc='upper left');\n",
    "\n",
    "cscoALly_pred = rf.predict(cscoX_test)\n",
    "plt.subplot(2, 1, 2)\n",
    "plt.scatter(cscoX_test['date'], cscoy_test, color='red', label='Actual')\n",
    "plt.scatter(cscoX_test['date'], cscoALly_pred, color='chartreuse', label='Predicted', alpha=0.5)\n",
    "plt.title(\"All Company Prediction for CSCO\")\n",
    "plt.xlabel('Timeframe')\n",
    "plt.ylabel('Price')\n",
    "plt.legend(loc='upper left');\n",
    "#plt.axis([20179, 20180, 0, 50])\n",
    "#print(cscoX_test['date'], ' : ', cscoy_pred)\n",
    "print()\n",
    "\n",
    "msftDF = AllDF.loc[AllDF['symbol'].isin(['MSFT'])]\n",
    "dalDF = AllDF.loc[AllDF['symbol'].isin(['DAL'])]\n",
    "dalDF = AllDF.loc[AllDF['symbol'].isin(['CVX'])]\n",
    "\n"
   ]
  },
  {
   "cell_type": "markdown",
   "metadata": {},
   "source": []
  },
  {
   "cell_type": "code",
   "execution_count": null,
   "metadata": {},
   "outputs": [],
   "source": []
  },
  {
   "cell_type": "code",
   "execution_count": null,
   "metadata": {},
   "outputs": [],
   "source": [
    "### R-Squared for Linear Regression; to check the model performance statistically\n",
    "from sklearn.model_selection import cross_val_score\n",
    "cv_results = cross_val_score(rf, X, Y, cv=10)\n",
    "print(cv_results)\n",
    "np.mean(cv_results)"
   ]
  },
  {
   "cell_type": "markdown",
   "metadata": {},
   "source": [
    "# Challenges\n",
    "First of all, to come up with valid features was a challenge. What features we feed into the model to train on. To ease the process of investing, we faced with a challenge of learning finance. Having a finance major in our team could have been very fruitful since we are not so educated with all those finance terms. \n",
    "Second, the data was not ready anywhere. Though, we got most of our data from [IEX API](https://iextrading.com/developer/docs/), it did not come in a form to be used in the data model. We had to check for missing values, values not in proper format etc. \n",
    "Also, stock market is very sensitive to rumors or even tweets from Trump. The market goes up and down from a single tweet by Trump. We could not figure out how do we train model on rumors."
   ]
  },
  {
   "cell_type": "markdown",
   "metadata": {},
   "source": [
    "# Further Considerations\n",
    "We know stocks of same type like pharmacuticals or tech industry often behave in a similar way. So, building a model that is trained to classify a certain company into a category will be beneficial to prediction.\n",
    "There are some other nonnumeric parameters, we know from our little knowledge in finance, that oftentimes determine stock price like earning report date, dividend record date, or even the proximity to the next election. We might want to add these features to the model training as countdown of time to these event as the closer those events are more sensitive the stocks are. \n",
    "Also the prediction model need to consider the timeframe for which the prediction is valid. Unlike other prediction model, like an apartment price, we know the current price of stock to the exact point. What we want to be able is to predict something for the future for which we might not have the required feature values. Thats why coming up with some kind of rating for each stock instead of exact price will be more reasonable. "
   ]
  },
  {
   "cell_type": "code",
   "execution_count": null,
   "metadata": {},
   "outputs": [],
   "source": []
  }
 ],
 "metadata": {
  "kernelspec": {
   "display_name": "Python 3",
   "language": "python",
   "name": "python3"
  },
  "language_info": {
   "codemirror_mode": {
    "name": "ipython",
    "version": 3
   },
   "file_extension": ".py",
   "mimetype": "text/x-python",
   "name": "python",
   "nbconvert_exporter": "python",
   "pygments_lexer": "ipython3",
   "version": "3.6.5"
  }
 },
 "nbformat": 4,
 "nbformat_minor": 2
}
