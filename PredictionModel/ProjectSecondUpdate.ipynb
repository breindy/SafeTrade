{
 "cells": [
  {
   "cell_type": "markdown",
   "metadata": {},
   "source": [
    "# <center>Second Update on Group Project  \n",
    "# <center>[Safe Trade: Stock Prediction](https://github.com/breindy/SafeTrade)\n",
    "Shofiqur Rahman<br>\n",
    "Bashir Ahamed<br>\n",
    "Michelle Uy<br>\n",
    "Thierno Diallo<br><br>\n",
    "Grant Long<br>\n",
    "CSC.59970<br>\n",
    "November 19, 2018"
   ]
  },
  {
   "cell_type": "markdown",
   "metadata": {},
   "source": [
    "With a lot of company stocks listed and a huge amount of trading done each working day we have an immense amoount of data at our hand. With that a problem comes is what we consider and what we discard as not necessary. Most importantly, what features do really impact stock prices. The first task is to come up with some features that effects stock prices. For that purpose, we will see correlation between stock price and each features we can find. The data will come from [IEX API](https://iextrading.com/developer/docs/)"
   ]
  },
  {
   "cell_type": "markdown",
   "metadata": {},
   "source": [
    "Also with all the varieties of stock data at hand we realize that dealing with all the different company stocks together might not give us a woriking model for all company; a model appropriate to predict on one company stocks might not perform equally well on another company. So, initially our foucs is on to build a model that can predict well at least for a company, namely Apple Inc. or AAPL."
   ]
  },
  {
   "cell_type": "markdown",
   "metadata": {
    "collapsed": true
   },
   "source": [
    "We also realize that pridicting an exact stock price depending on some regression model might be too bold. Instead, what we could do is to say, given the present state of the market, if the company stock price is going to rise or fall in near future (Probably, to be specific, in next three/four months). We might add to that by what percent the stock might rise. "
   ]
  },
  {
   "cell_type": "markdown",
   "metadata": {},
   "source": [
    "Another issue we face while building this prediction model is that the model needs to be fed some parameter values for it to predict a price for future date. But, the values for parameters is also a prediction in many cases which is to say that we do not have values for parameters/features for a future date. Therefore, the goal for now is to split the available data in X_test, y_test, X_train, and y_train. And then we will see the performance of the model on test (X_test, y_test) data. "
   ]
  },
  {
   "cell_type": "markdown",
   "metadata": {},
   "source": [
    "Also, since we aggregated and cleaned our data in the first update to StockData.csv, we will assume that we have our necessary data in StockData.csv unless we add more features here."
   ]
  },
  {
   "cell_type": "markdown",
   "metadata": {},
   "source": [
    "To add another feature to our arsenal, we consider stock exnhange index will be a strong candidate. Since stock prices tend to rise and fall in relation to exchange's index, we will see the correlation between a particular stock's price and the merket index. Though, we are fetching all other data from IEX exchange, the index will come from NASDAQ since IEX does not provide historical data of its index. We think this would not matter much on the prediction model since all other features like pe, dividends are the same across all stock exchanges. The stock exchange index data is coming from [here](https://finance.yahoo.com/quote/%5EIXIC/history?ltr=1). "
   ]
  },
  {
   "cell_type": "code",
   "execution_count": 1,
   "metadata": {},
   "outputs": [
    {
     "data": {
      "text/html": [
       "<div>\n",
       "<style scoped>\n",
       "    .dataframe tbody tr th:only-of-type {\n",
       "        vertical-align: middle;\n",
       "    }\n",
       "\n",
       "    .dataframe tbody tr th {\n",
       "        vertical-align: top;\n",
       "    }\n",
       "\n",
       "    .dataframe thead th {\n",
       "        text-align: right;\n",
       "    }\n",
       "</style>\n",
       "<table border=\"1\" class=\"dataframe\">\n",
       "  <thead>\n",
       "    <tr style=\"text-align: right;\">\n",
       "      <th></th>\n",
       "      <th>Unnamed: 0</th>\n",
       "      <th>date</th>\n",
       "      <th>company</th>\n",
       "      <th>symbol</th>\n",
       "      <th>dividend</th>\n",
       "      <th>eps</th>\n",
       "      <th>nasdaqIndex</th>\n",
       "      <th>numberOfShare</th>\n",
       "      <th>pe</th>\n",
       "      <th>price</th>\n",
       "      <th>profitPerShare</th>\n",
       "      <th>revenuePerShare</th>\n",
       "    </tr>\n",
       "  </thead>\n",
       "  <tbody>\n",
       "    <tr>\n",
       "      <th>0</th>\n",
       "      <td>0</td>\n",
       "      <td>2017-11-28</td>\n",
       "      <td>Zoetis Inc. Class A</td>\n",
       "      <td>ZTS</td>\n",
       "      <td>0.105</td>\n",
       "      <td>0.76</td>\n",
       "      <td>NaN</td>\n",
       "      <td>5.963746e+08</td>\n",
       "      <td>70.9670</td>\n",
       "      <td>70.9670</td>\n",
       "      <td>5.144417</td>\n",
       "      <td>3</td>\n",
       "    </tr>\n",
       "    <tr>\n",
       "      <th>1</th>\n",
       "      <td>1</td>\n",
       "      <td>2017-11-29</td>\n",
       "      <td>Zoetis Inc. Class A</td>\n",
       "      <td>ZTS</td>\n",
       "      <td>0.105</td>\n",
       "      <td>0.76</td>\n",
       "      <td>NaN</td>\n",
       "      <td>5.945424e+08</td>\n",
       "      <td>71.1857</td>\n",
       "      <td>71.1857</td>\n",
       "      <td>5.160271</td>\n",
       "      <td>3</td>\n",
       "    </tr>\n",
       "    <tr>\n",
       "      <th>2</th>\n",
       "      <td>2</td>\n",
       "      <td>2017-11-30</td>\n",
       "      <td>Zoetis Inc. Class A</td>\n",
       "      <td>ZTS</td>\n",
       "      <td>0.105</td>\n",
       "      <td>0.76</td>\n",
       "      <td>NaN</td>\n",
       "      <td>5.889504e+08</td>\n",
       "      <td>71.8616</td>\n",
       "      <td>71.8616</td>\n",
       "      <td>5.209267</td>\n",
       "      <td>3</td>\n",
       "    </tr>\n",
       "    <tr>\n",
       "      <th>3</th>\n",
       "      <td>3</td>\n",
       "      <td>2017-12-01</td>\n",
       "      <td>Zoetis Inc. Class A</td>\n",
       "      <td>ZTS</td>\n",
       "      <td>0.105</td>\n",
       "      <td>0.76</td>\n",
       "      <td>NaN</td>\n",
       "      <td>5.888685e+08</td>\n",
       "      <td>71.8716</td>\n",
       "      <td>71.8716</td>\n",
       "      <td>5.209992</td>\n",
       "      <td>3</td>\n",
       "    </tr>\n",
       "    <tr>\n",
       "      <th>4</th>\n",
       "      <td>4</td>\n",
       "      <td>2017-12-04</td>\n",
       "      <td>Zoetis Inc. Class A</td>\n",
       "      <td>ZTS</td>\n",
       "      <td>0.105</td>\n",
       "      <td>0.76</td>\n",
       "      <td>NaN</td>\n",
       "      <td>5.994824e+08</td>\n",
       "      <td>70.5991</td>\n",
       "      <td>70.5991</td>\n",
       "      <td>5.117748</td>\n",
       "      <td>3</td>\n",
       "    </tr>\n",
       "  </tbody>\n",
       "</table>\n",
       "</div>"
      ],
      "text/plain": [
       "   Unnamed: 0        date              company symbol  dividend   eps  \\\n",
       "0           0  2017-11-28  Zoetis Inc. Class A    ZTS     0.105  0.76   \n",
       "1           1  2017-11-29  Zoetis Inc. Class A    ZTS     0.105  0.76   \n",
       "2           2  2017-11-30  Zoetis Inc. Class A    ZTS     0.105  0.76   \n",
       "3           3  2017-12-01  Zoetis Inc. Class A    ZTS     0.105  0.76   \n",
       "4           4  2017-12-04  Zoetis Inc. Class A    ZTS     0.105  0.76   \n",
       "\n",
       "   nasdaqIndex  numberOfShare       pe    price  profitPerShare  \\\n",
       "0          NaN   5.963746e+08  70.9670  70.9670        5.144417   \n",
       "1          NaN   5.945424e+08  71.1857  71.1857        5.160271   \n",
       "2          NaN   5.889504e+08  71.8616  71.8616        5.209267   \n",
       "3          NaN   5.888685e+08  71.8716  71.8716        5.209992   \n",
       "4          NaN   5.994824e+08  70.5991  70.5991        5.117748   \n",
       "\n",
       "   revenuePerShare  \n",
       "0                3  \n",
       "1                3  \n",
       "2                3  \n",
       "3                3  \n",
       "4                3  "
      ]
     },
     "execution_count": 1,
     "metadata": {},
     "output_type": "execute_result"
    }
   ],
   "source": [
    "import pandas as pd\n",
    "import numpy as np\n",
    "import matplotlib.pyplot as plt\n",
    "\n",
    "df = pd.read_csv('AllStockData.csv')\n",
    "# df['nasdaqIndex'] = ''\n",
    "# # ^IXIC.csv retrieved from https://finance.yahoo.com/quote/%5EIXIC/history?ltr=1\n",
    "# dfNasdaqIndices = pd.read_csv('NasdaqIndices.csv')\n",
    "\n",
    "# for index, row in dfNasdaqIndices.iterrows():\n",
    "#     df.loc[df['date'] == row['Date'], ['nasdaqIndex']] = row['Close']\n",
    "\n",
    "# # Save all stock data in a CSV file called 'StockData.csv'\n",
    "# df.to_csv('StockData.csv')\n",
    "\n",
    "df.head()"
   ]
  },
  {
   "cell_type": "code",
   "execution_count": 2,
   "metadata": {},
   "outputs": [
    {
     "name": "stdout",
     "output_type": "stream",
     "text": [
      "(534960, 12)\n",
      "Unnamed: 0         0\n",
      "date               0\n",
      "company            0\n",
      "symbol             0\n",
      "dividend           0\n",
      "eps                0\n",
      "nasdaqIndex        0\n",
      "numberOfShare      0\n",
      "pe                 0\n",
      "price              0\n",
      "profitPerShare     0\n",
      "revenuePerShare    0\n",
      "dtype: int64\n"
     ]
    },
    {
     "data": {
      "text/plain": [
       "False"
      ]
     },
     "execution_count": 2,
     "metadata": {},
     "output_type": "execute_result"
    }
   ],
   "source": [
    "# Replacing infinite values with NaN and then\n",
    "# Cleaning out the null or nan values\n",
    "df.replace([np.inf, -np.inf], np.nan)\n",
    "df.dropna()\n",
    "# Dropping the 'NaN' rows that is read as string\n",
    "df = df[~df['nasdaqIndex'].isin(['NaN'])]\n",
    "\n",
    "print(df.shape)\n",
    "print(df.isna().sum())\n",
    "df.isnull().values.any()"
   ]
  },
  {
   "cell_type": "code",
   "execution_count": 3,
   "metadata": {},
   "outputs": [
    {
     "data": {
      "image/png": "[encoded data removed]",
      "text/plain": [
       "<Figure size 432x288 with 1 Axes>"
      ]
     },
     "metadata": {},
     "output_type": "display_data"
    }
   ],
   "source": [
    "# Visualizig correlation between stock price and stock exchange index\n",
    "singleDF = df.loc[df['symbol'] == 'CSCO']\n",
    "try:\n",
    "    plt.scatter(singleDF.nasdaqIndex, singleDF.price, alpha=0.5, marker=r'$\\clubsuit$', color='green')\n",
    "except ValueError as e:\n",
    "    print(e)\n",
    "\n",
    "plt.show()\n"
   ]
  },
  {
   "cell_type": "code",
   "execution_count": null,
   "metadata": {},
   "outputs": [],
   "source": []
  },
  {
   "cell_type": "code",
   "execution_count": 4,
   "metadata": {},
   "outputs": [],
   "source": [
    "### Divide the DataFrame in X(Features) and Y(Target)\n",
    "X = singleDF[['dividend', 'eps', 'profitPerShare', 'numberOfShare', 'nasdaqIndex', 'pe', 'revenuePerShare']].copy()\n",
    "Y = singleDF.price"
   ]
  },
  {
   "cell_type": "code",
   "execution_count": 5,
   "metadata": {},
   "outputs": [
    {
     "name": "stdout",
     "output_type": "stream",
     "text": [
      "Test set RMSE of dt: 0.55\n"
     ]
    }
   ],
   "source": [
    "# Import train_test_split from sklearn.model_selection\n",
    "from sklearn.model_selection import train_test_split\n",
    "# Import DecisionTreeRegressor from sklearn.tree\n",
    "from sklearn.tree import DecisionTreeRegressor\n",
    "# Import accuracy_score\n",
    "from sklearn.metrics import accuracy_score\n",
    "# Import mean_squared_error from sklearn.metrics as MSE\n",
    "from sklearn.metrics import mean_squared_error as MSE\n",
    "\n",
    "# Splitting the dataset\n",
    "X_train, X_test, y_train, y_test = train_test_split(X, Y, test_size=0.3, random_state=1)\n",
    "\n",
    "# Instantiate dt: min_samples_leaf tells the model to keep at least 10% data for each leaf\n",
    "dt = DecisionTreeRegressor(max_depth=8, min_samples_leaf=0.1, random_state=3)\n",
    "\n",
    "# Fit dt to the training set\n",
    "dt.fit(X_train, y_train)\n",
    "\n",
    "# Compute y_pred\n",
    "y_pred = dt.predict(X_test)\n",
    "\n",
    "# Compute mse_dt\n",
    "mse_dt = MSE(y_test, y_pred)\n",
    "\n",
    "# Compute rmse_dt\n",
    "rmse_dt = mse_dt**(1/2)\n",
    "\n",
    "# Print rmse_dt\n",
    "print(\"Test set RMSE of dt: {:.2f}\".format(rmse_dt))\n"
   ]
  },
  {
   "cell_type": "code",
   "execution_count": null,
   "metadata": {},
   "outputs": [],
   "source": []
  },
  {
   "cell_type": "code",
   "execution_count": 6,
   "metadata": {},
   "outputs": [],
   "source": [
    "# The Generalization error tells us how much it generalizes on unseen data\n",
    "# bias=underfitting and variance=overfitting"
   ]
  },
  {
   "cell_type": "code",
   "execution_count": null,
   "metadata": {},
   "outputs": [],
   "source": []
  },
  {
   "cell_type": "code",
   "execution_count": 7,
   "metadata": {},
   "outputs": [
    {
     "name": "stdout",
     "output_type": "stream",
     "text": [
      "CV RMSE: 0.65\n",
      "Train RMSE: 0.49\n"
     ]
    }
   ],
   "source": [
    "from sklearn.model_selection import cross_val_score\n",
    "\n",
    "# Compute the array containing the 10-folds CV MSEs\n",
    "MSE_CV_scores = - cross_val_score(dt, X_train, y_train, cv=10, scoring='neg_mean_squared_error', n_jobs=-1)\n",
    "\n",
    "# Compute the 10-folds CV RMSE\n",
    "RMSE_CV = (MSE_CV_scores.mean())**(1/2)\n",
    "\n",
    "# Print RMSE_CV\n",
    "print('CV RMSE: {:.2f}'.format(RMSE_CV))\n",
    "\n",
    "# Predict the labels of the training set\n",
    "y_pred_train = dt.predict(X_train)\n",
    "\n",
    "# Evaluate the training set RMSE of dt\n",
    "RMSE_train = (MSE(y_train, y_pred_train))**(1/2)\n",
    "\n",
    "# Print RMSE_train\n",
    "print('Train RMSE: {:.2f}'.format(RMSE_train))\n"
   ]
  },
  {
   "cell_type": "code",
   "execution_count": null,
   "metadata": {},
   "outputs": [],
   "source": []
  },
  {
   "cell_type": "code",
   "execution_count": 8,
   "metadata": {},
   "outputs": [
    {
     "name": "stdout",
     "output_type": "stream",
     "text": [
      "Test set RMSE of rf: 0.06\n"
     ]
    },
    {
     "data": {
      "image/png": "[encoded data removed]",
      "text/plain": [
       "<Figure size 432x288 with 1 Axes>"
      ]
     },
     "metadata": {},
     "output_type": "display_data"
    }
   ],
   "source": [
    "### To see what features contribute the most toward price determination\n",
    "# Import RandomForestRegressor\n",
    "from sklearn.ensemble import RandomForestRegressor\n",
    "\n",
    "# Instantiate rf\n",
    "rf = RandomForestRegressor(n_estimators=25, random_state=2)\n",
    "\n",
    "# Fit rf to the training set    \n",
    "rf.fit(X_train, y_train)\n",
    "\n",
    "# Predict the test set labels\n",
    "y_pred = rf.predict(X_test)\n",
    "\n",
    "# Evaluate the test set RMSE\n",
    "rmse_test = MSE(y_test, y_pred)**(1/2)\n",
    "\n",
    "# Print rmse_test\n",
    "print('Test set RMSE of rf: {:.2f}'.format(rmse_test))\n",
    "\n",
    "# Create a pd.Series of features importances\n",
    "importances = pd.Series(data=rf.feature_importances_, index= X_train.columns)\n",
    "\n",
    "# Sort importances\n",
    "importances_sorted = importances.sort_values()\n",
    "\n",
    "# Draw a horizontal barplot of importances_sorted\n",
    "importances_sorted.plot(kind='barh', color='lightgreen')\n",
    "plt.title('Features Importances')\n",
    "plt.show()\n"
   ]
  },
  {
   "cell_type": "markdown",
   "metadata": {},
   "source": [
    "As we can see from the above graph, the stock exchange index carries the most weight toward a stock's price determination. This index is followed by pe and eps in sequence of their respective significance as expected. Though dividend including all other features are shown to be not affecting the price, our literatue study indicates that they contribute greatly toward price determination. Here, since we only considered Apple Inc. data, and Apple Inc. had the same values for dividend and other features throughout the years, the graph is misleading here. As we add more data in our future work, we will see other features' contribution. "
   ]
  },
  {
   "cell_type": "code",
   "execution_count": null,
   "metadata": {},
   "outputs": [],
   "source": []
  },
  {
   "cell_type": "code",
   "execution_count": 9,
   "metadata": {},
   "outputs": [],
   "source": [
    "# Things to consider: stocks will tend to be correlated with each other"
   ]
  },
  {
   "cell_type": "code",
   "execution_count": null,
   "metadata": {},
   "outputs": [],
   "source": []
  }
 ],
 "metadata": {
  "kernelspec": {
   "display_name": "Python 3",
   "language": "python",
   "name": "python3"
  },
  "language_info": {
   "codemirror_mode": {
    "name": "ipython",
    "version": 3
   },
   "file_extension": ".py",
   "mimetype": "text/x-python",
   "name": "python",
   "nbconvert_exporter": "python",
   "pygments_lexer": "ipython3",
   "version": "3.6.5"
  }
 },
 "nbformat": 4,
 "nbformat_minor": 2
}
