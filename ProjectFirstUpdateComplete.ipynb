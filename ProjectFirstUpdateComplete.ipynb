{
 "cells": [
  {
   "cell_type": "markdown",
   "metadata": {},
   "source": [
    "# <center>First Update on Group Project\n",
    "# <center>Safe Trade: Stock Prediction\n",
    "Shofiqur Rahman<br>\n",
    "Bashir Ahamed<br>\n",
    "Michelle Uy<br>\n",
    "Thierno Diallo<br><br>\n",
    "Grant Long<br>\n",
    "CSC.59970<br>\n",
    "November 05, 2018</p>"
   ]
  },
  {
   "cell_type": "markdown",
   "metadata": {},
   "source": [
    "With a lot of company stocks listed and a huge amount of trading done each working day we have an immense amoount of data at our hand. With that a problem comes is what we consider and what we discard as not necessary. Most importantly, what features do really impact stock prices. The first task is to come up with some features that effects stock prices. For that purpose, we will see correlation between stock price and each features we can find. The data will come from [IEX API](https://iextrading.com/developer/docs/)"
   ]
  },
  {
   "cell_type": "markdown",
   "metadata": {},
   "source": [
    "Also with all the varieties of stock data at hand we realize that dealing with all the different company stocks together might not give us a woriking model for all company; a model appropriate to predict on one company stocks might not perform equally well on another company. So, initially our foucs is on to build a model that can predict well at least for a company, namely Apple Inc. or AAPL."
   ]
  },
  {
   "cell_type": "markdown",
   "metadata": {
    "collapsed": true
   },
   "source": [
    "We also realize that pridicting an exact stock price depending on some regression model might be too bold. Instead, what we could do is to say, given the present state of the market, if the company stock price is going to rise or fall in near future (Probably, to be specific, in next three/four months). We might add to that by what percent the stock might rise. "
   ]
  },
  {
   "cell_type": "code",
   "execution_count": 1,
   "metadata": {},
   "outputs": [],
   "source": [
    "# Import necessary python modules to equip ourself with better tools\n",
    "\n",
    "# Import library for data manipulation\n",
    "import pandas as pd\n",
    "# Import pyhton http library\n",
    "import requests\n",
    "# To work with JSON objects returned from http calls\n",
    "import json\n"
   ]
  },
  {
   "cell_type": "code",
   "execution_count": 2,
   "metadata": {},
   "outputs": [
    {
     "name": "stdout",
     "output_type": "stream",
     "text": [
      "API Call Success! \n",
      " Google Price: 1056.53\n"
     ]
    }
   ],
   "source": [
    "# All API calls to IEX is prefixed with this\n",
    "iexUrl = 'https://api.iextrading.com/1.0'\n",
    "\n",
    "# Testing: Making API call to see current price\n",
    "response = requests.get(iexUrl + '/stock/GOOG/price')\n",
    "print('API Call Success! \\n Google Price: ' + response.text)"
   ]
  },
  {
   "cell_type": "code",
   "execution_count": 3,
   "metadata": {},
   "outputs": [],
   "source": [
    "# Declaring the main dataframe that we will be manipulating throughout the model building\n",
    "df = pd.DataFrame(columns=['date', 'company', 'symbol', 'dividend', 'eps', 'grossProfit', 'marketcap', 'pe', 'price', 'revenuePerShare'])\n"
   ]
  },
  {
   "cell_type": "code",
   "execution_count": 4,
   "metadata": {},
   "outputs": [],
   "source": [
    "### Populating df with data for Apple Inc.\n",
    "tempdf = pd.DataFrame(columns=['date', 'company', 'symbol', 'dividend', 'eps', 'grossProfit', 'marketcap', 'pe', 'price', 'revenuePerShare'])\n",
    "\n",
    "# Making API call to get last one year end of day close price(target value) and transaction date for AAPL\n",
    "response = requests.get(iexUrl + '/stock/aapl/chart/1y')\n",
    "JSONdata = response.json()\n",
    "date = list()\n",
    "price = list()\n",
    "for data in JSONdata:\n",
    "    date.append(data['date'])\n",
    "    price.append(data['close'])\n",
    "tempdf.date = date\n",
    "tempdf.price = price\n",
    "tempdf.company = 'Apple Inc.'\n",
    "tempdf.symbol = 'AAPL'"
   ]
  },
  {
   "cell_type": "code",
   "execution_count": 5,
   "metadata": {},
   "outputs": [],
   "source": [
    "# Making API call to get last one year querterly EPS\n",
    "response = requests.get(iexUrl + '/stock/aapl/earnings')\n",
    "JSONdata = response.json()\n",
    "totalEPS = 0 # to set the null EPS later\n",
    "\n",
    "# Setting EPS values for transaction days that happened after the EPS reporting date\n",
    "for data in JSONdata['earnings']:\n",
    "    tempdf.loc[tempdf['date'] > data['EPSReportDate'], ['eps']] = data['actualEPS']\n",
    "    totalEPS += data['actualEPS']\n",
    "    \n",
    "# Setting NaN values in EPS to avarage of last four EPS\n",
    "tempdf.loc[pd.isna(tempdf['eps']), ['eps']] = totalEPS / len(JSONdata['earnings'])\n"
   ]
  },
  {
   "cell_type": "code",
   "execution_count": 6,
   "metadata": {},
   "outputs": [],
   "source": [
    "# Calculating pe\n",
    "tempdf['pe'] = tempdf['price'] / tempdf['eps']\n"
   ]
  },
  {
   "cell_type": "code",
   "execution_count": 7,
   "metadata": {},
   "outputs": [],
   "source": [
    "# Making API call to get last one year querterly dividends\n",
    "response = requests.get(iexUrl + '/stock/aapl/dividends/1y')\n",
    "JSONdata = response.json()\n",
    "totalDividend = 0 # to set the null dividend later\n",
    "\n",
    "# Setting dividend values for transaction days that happened after the dividend declaredDate\n",
    "for data in JSONdata:\n",
    "    tempdf.loc[tempdf['date'] > data['declaredDate'], ['dividend']] = data['amount']\n",
    "    totalDividend += data['amount']\n",
    "    \n",
    "# Setting NaN values in dividend to avarage of last four dividend amount\n",
    "tempdf.loc[pd.isna(tempdf['dividend']), ['dividend']] = totalDividend / len(JSONdata)\n"
   ]
  },
  {
   "cell_type": "code",
   "execution_count": 8,
   "metadata": {},
   "outputs": [],
   "source": [
    "# Making API call to get last one year marketcap and revenuePerShare\n",
    "response = requests.get(iexUrl + '/stock/aapl/stats')\n",
    "JSONdata = response.json()\n",
    "\n",
    "tempdf['marketcap'] = JSONdata['marketcap']\n",
    "tempdf['revenuePerShare'] = JSONdata['revenuePerShare']\n"
   ]
  },
  {
   "cell_type": "code",
   "execution_count": 9,
   "metadata": {},
   "outputs": [],
   "source": [
    "# Making API call to get last one year grossProfit\n",
    "response = requests.get(iexUrl + '/stock/aapl/financials?period=annual')\n",
    "JSONdata = response.json()\n",
    "\n",
    "totalgrossProfit = 0 # to set the null grossProfit later\n",
    "\n",
    "# Setting grossProfit values for transaction days that happened after the grossProfit report date\n",
    "for data in JSONdata['financials']:\n",
    "    tempdf.loc[tempdf['date'] > data['reportDate'], ['grossProfit']] = data['grossProfit']\n",
    "    totalgrossProfit += data['grossProfit']\n",
    "    \n",
    "# Setting NaN values in grossProfit to avarage of last four grossProfit\n",
    "tempdf.loc[pd.isna(tempdf['grossProfit']), ['grossProfit']] = totalgrossProfit / len(JSONdata['financials'])\n"
   ]
  },
  {
   "cell_type": "code",
   "execution_count": 10,
   "metadata": {},
   "outputs": [
    {
     "data": {
      "text/html": [
       "<div>\n",
       "<style scoped>\n",
       "    .dataframe tbody tr th:only-of-type {\n",
       "        vertical-align: middle;\n",
       "    }\n",
       "\n",
       "    .dataframe tbody tr th {\n",
       "        vertical-align: top;\n",
       "    }\n",
       "\n",
       "    .dataframe thead th {\n",
       "        text-align: right;\n",
       "    }\n",
       "</style>\n",
       "<table border=\"1\" class=\"dataframe\">\n",
       "  <thead>\n",
       "    <tr style=\"text-align: right;\">\n",
       "      <th></th>\n",
       "      <th>date</th>\n",
       "      <th>company</th>\n",
       "      <th>symbol</th>\n",
       "      <th>dividend</th>\n",
       "      <th>eps</th>\n",
       "      <th>grossProfit</th>\n",
       "      <th>marketcap</th>\n",
       "      <th>pe</th>\n",
       "      <th>price</th>\n",
       "      <th>revenuePerShare</th>\n",
       "    </tr>\n",
       "  </thead>\n",
       "  <tbody>\n",
       "    <tr>\n",
       "      <th>0</th>\n",
       "      <td>2017-10-24</td>\n",
       "      <td>Apple Inc.</td>\n",
       "      <td>AAPL</td>\n",
       "      <td>0.63</td>\n",
       "      <td>2.9675</td>\n",
       "      <td>9.362600e+10</td>\n",
       "      <td>958557627740</td>\n",
       "      <td>52.1516</td>\n",
       "      <td>154.7600</td>\n",
       "      <td>19</td>\n",
       "    </tr>\n",
       "    <tr>\n",
       "      <th>1</th>\n",
       "      <td>2017-10-25</td>\n",
       "      <td>Apple Inc.</td>\n",
       "      <td>AAPL</td>\n",
       "      <td>0.63</td>\n",
       "      <td>2.9675</td>\n",
       "      <td>9.362600e+10</td>\n",
       "      <td>958557627740</td>\n",
       "      <td>51.9226</td>\n",
       "      <td>154.0802</td>\n",
       "      <td>19</td>\n",
       "    </tr>\n",
       "    <tr>\n",
       "      <th>2</th>\n",
       "      <td>2017-10-26</td>\n",
       "      <td>Apple Inc.</td>\n",
       "      <td>AAPL</td>\n",
       "      <td>0.63</td>\n",
       "      <td>2.9675</td>\n",
       "      <td>9.362600e+10</td>\n",
       "      <td>958557627740</td>\n",
       "      <td>52.2546</td>\n",
       "      <td>155.0654</td>\n",
       "      <td>19</td>\n",
       "    </tr>\n",
       "    <tr>\n",
       "      <th>3</th>\n",
       "      <td>2017-10-27</td>\n",
       "      <td>Apple Inc.</td>\n",
       "      <td>AAPL</td>\n",
       "      <td>0.63</td>\n",
       "      <td>2.9675</td>\n",
       "      <td>9.362600e+10</td>\n",
       "      <td>958557627740</td>\n",
       "      <td>54.1268</td>\n",
       "      <td>160.6213</td>\n",
       "      <td>19</td>\n",
       "    </tr>\n",
       "    <tr>\n",
       "      <th>4</th>\n",
       "      <td>2017-10-30</td>\n",
       "      <td>Apple Inc.</td>\n",
       "      <td>AAPL</td>\n",
       "      <td>0.63</td>\n",
       "      <td>2.9675</td>\n",
       "      <td>9.362600e+10</td>\n",
       "      <td>958557627740</td>\n",
       "      <td>55.3451</td>\n",
       "      <td>164.2367</td>\n",
       "      <td>19</td>\n",
       "    </tr>\n",
       "  </tbody>\n",
       "</table>\n",
       "</div>"
      ],
      "text/plain": [
       "         date     company symbol dividend     eps   grossProfit     marketcap  \\\n",
       "0  2017-10-24  Apple Inc.   AAPL     0.63  2.9675  9.362600e+10  958557627740   \n",
       "1  2017-10-25  Apple Inc.   AAPL     0.63  2.9675  9.362600e+10  958557627740   \n",
       "2  2017-10-26  Apple Inc.   AAPL     0.63  2.9675  9.362600e+10  958557627740   \n",
       "3  2017-10-27  Apple Inc.   AAPL     0.63  2.9675  9.362600e+10  958557627740   \n",
       "4  2017-10-30  Apple Inc.   AAPL     0.63  2.9675  9.362600e+10  958557627740   \n",
       "\n",
       "        pe     price revenuePerShare  \n",
       "0  52.1516  154.7600              19  \n",
       "1  51.9226  154.0802              19  \n",
       "2  52.2546  155.0654              19  \n",
       "3  54.1268  160.6213              19  \n",
       "4  55.3451  164.2367              19  "
      ]
     },
     "execution_count": 10,
     "metadata": {},
     "output_type": "execute_result"
    }
   ],
   "source": [
    "# To concate another company with dataframe df\n",
    "df = pd.concat([df, tempdf], ignore_index=True)\n",
    "df.head()\n"
   ]
  },
  {
   "cell_type": "code",
   "execution_count": 11,
   "metadata": {},
   "outputs": [],
   "source": [
    "# Save all stock data in a CSV file called 'StockData.csv'\n",
    "df.to_csv('StockData.csv')\n"
   ]
  },
  {
   "cell_type": "code",
   "execution_count": 15,
   "metadata": {},
   "outputs": [
    {
     "data": {
      "image/png": "[encoded data removed]",
      "text/plain": [
       "<Figure size 432x288 with 1 Axes>"
      ]
     },
     "metadata": {},
     "output_type": "display_data"
    }
   ],
   "source": [
    "# Visualizig correlation between stock price and pe \n",
    "import matplotlib.pyplot as plt\n",
    "\n",
    "plt.scatter(df.pe, df.price, alpha=0.5, marker=r'$\\clubsuit$')\n",
    "plt.show()\n"
   ]
  },
  {
   "cell_type": "code",
   "execution_count": 18,
   "metadata": {},
   "outputs": [
    {
     "data": {
      "image/png": "[encoded data removed]",
      "text/plain": [
       "<Figure size 432x288 with 1 Axes>"
      ]
     },
     "metadata": {},
     "output_type": "display_data"
    }
   ],
   "source": [
    "# Visualizig correlation between stock price and pe \n",
    "import matplotlib.pyplot as plt\n",
    "\n",
    "plt.scatter(df.grossProfit, df.price, alpha=0.5, marker=r'$\\clubsuit$')\n",
    "plt.show()"
   ]
  },
  {
   "cell_type": "markdown",
   "metadata": {},
   "source": [
    "Things to consider: \n",
    "    stocks will tend to be correlated with each other"
   ]
  },
  {
   "cell_type": "code",
   "execution_count": null,
   "metadata": {},
   "outputs": [],
   "source": []
  },
  {
   "cell_type": "code",
   "execution_count": null,
   "metadata": {},
   "outputs": [],
   "source": []
  },
  {
   "cell_type": "code",
   "execution_count": null,
   "metadata": {},
   "outputs": [],
   "source": []
  }
 ],
 "metadata": {
  "kernelspec": {
   "display_name": "Python 3",
   "language": "python",
   "name": "python3"
  },
  "language_info": {
   "codemirror_mode": {
    "name": "ipython",
    "version": 3
   },
   "file_extension": ".py",
   "mimetype": "text/x-python",
   "name": "python",
   "nbconvert_exporter": "python",
   "pygments_lexer": "ipython3",
   "version": "3.6.5"
  }
 },
 "nbformat": 4,
 "nbformat_minor": 2
}
